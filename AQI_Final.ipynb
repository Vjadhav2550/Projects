{
 "cells": [
  {
   "cell_type": "code",
   "execution_count": 111,
   "id": "fd56f797",
   "metadata": {},
   "outputs": [],
   "source": [
    "## importing packages\n",
    "#%pip install requests\n",
    "\n",
    "import numpy as np\n",
    "import pandas as pd\n",
    "import requests # Make a request to a web page\n",
    "import json\n",
    "import re\n",
    "import datetime\n",
    "import time\n",
    "import base64\n",
    "from itertools import product\n",
    "import matplotlib.pyplot as plt\n",
    "import seaborn as sns\n",
    "import pickle"
   ]
  },
  {
   "cell_type": "markdown",
   "id": "fb5dd044",
   "metadata": {},
   "source": [
    "# Subindex"
   ]
  },
  {
   "cell_type": "code",
   "execution_count": 2,
   "id": "01c9d31e",
   "metadata": {},
   "outputs": [
    {
     "data": {
      "text/plain": [
       "'\\nPATH_STATION_HOUR = pd.read_csv(\"station_hour.csv\")\\nPATH_STATION_DAY = pd.read_csv(\"station_day.csv\")\\nPATH_CITY_HOUR = pd.read_csv(\"city_hour.csv\")\\nPATH_CITY_DAY = pd.read_csv(\"city_day.csv\")\\nPATH_STATIONS = pd.read_csv(\"stations.csv\")\\n'"
      ]
     },
     "execution_count": 2,
     "metadata": {},
     "output_type": "execute_result"
    }
   ],
   "source": [
    "'''\n",
    "PATH_STATION_HOUR = pd.read_csv(\"station_hour.csv\")\n",
    "PATH_STATION_DAY = pd.read_csv(\"station_day.csv\")\n",
    "PATH_CITY_HOUR = pd.read_csv(\"city_hour.csv\")\n",
    "PATH_CITY_DAY = pd.read_csv(\"city_day.csv\")\n",
    "PATH_STATIONS = pd.read_csv(\"stations.csv\")\n",
    "'''"
   ]
  },
  {
   "cell_type": "code",
   "execution_count": 3,
   "id": "e7489370",
   "metadata": {},
   "outputs": [
    {
     "name": "stderr",
     "output_type": "stream",
     "text": [
      "C:\\Users\\ASUS\\anaconda3\\lib\\site-packages\\IPython\\core\\interactiveshell.py:3444: DtypeWarning: Columns (15) have mixed types.Specify dtype option on import or set low_memory=False.\n",
      "  exec(code_obj, self.user_global_ns, self.user_ns)\n"
     ]
    },
    {
     "data": {
      "text/html": [
       "<div>\n",
       "<style scoped>\n",
       "    .dataframe tbody tr th:only-of-type {\n",
       "        vertical-align: middle;\n",
       "    }\n",
       "\n",
       "    .dataframe tbody tr th {\n",
       "        vertical-align: top;\n",
       "    }\n",
       "\n",
       "    .dataframe thead th {\n",
       "        text-align: right;\n",
       "    }\n",
       "</style>\n",
       "<table border=\"1\" class=\"dataframe\">\n",
       "  <thead>\n",
       "    <tr style=\"text-align: right;\">\n",
       "      <th></th>\n",
       "      <th>StationId</th>\n",
       "      <th>Datetime</th>\n",
       "      <th>PM2.5</th>\n",
       "      <th>PM10</th>\n",
       "      <th>NO</th>\n",
       "      <th>NO2</th>\n",
       "      <th>NOx</th>\n",
       "      <th>NH3</th>\n",
       "      <th>CO</th>\n",
       "      <th>SO2</th>\n",
       "      <th>O3</th>\n",
       "      <th>Benzene</th>\n",
       "      <th>Toluene</th>\n",
       "      <th>Xylene</th>\n",
       "      <th>AQI</th>\n",
       "      <th>AQI_Bucket</th>\n",
       "    </tr>\n",
       "  </thead>\n",
       "  <tbody>\n",
       "    <tr>\n",
       "      <th>0</th>\n",
       "      <td>AP001</td>\n",
       "      <td>2017-11-24 17:00:00</td>\n",
       "      <td>60.50</td>\n",
       "      <td>98.00</td>\n",
       "      <td>2.35</td>\n",
       "      <td>30.80</td>\n",
       "      <td>18.25</td>\n",
       "      <td>8.50</td>\n",
       "      <td>0.1</td>\n",
       "      <td>11.85</td>\n",
       "      <td>126.40</td>\n",
       "      <td>0.1</td>\n",
       "      <td>6.10</td>\n",
       "      <td>0.10</td>\n",
       "      <td>NaN</td>\n",
       "      <td>NaN</td>\n",
       "    </tr>\n",
       "    <tr>\n",
       "      <th>1</th>\n",
       "      <td>AP001</td>\n",
       "      <td>2017-11-24 18:00:00</td>\n",
       "      <td>65.50</td>\n",
       "      <td>111.25</td>\n",
       "      <td>2.70</td>\n",
       "      <td>24.20</td>\n",
       "      <td>15.07</td>\n",
       "      <td>9.77</td>\n",
       "      <td>0.1</td>\n",
       "      <td>13.17</td>\n",
       "      <td>117.12</td>\n",
       "      <td>0.1</td>\n",
       "      <td>6.25</td>\n",
       "      <td>0.15</td>\n",
       "      <td>NaN</td>\n",
       "      <td>NaN</td>\n",
       "    </tr>\n",
       "    <tr>\n",
       "      <th>2</th>\n",
       "      <td>AP001</td>\n",
       "      <td>2017-11-24 19:00:00</td>\n",
       "      <td>80.00</td>\n",
       "      <td>132.00</td>\n",
       "      <td>2.10</td>\n",
       "      <td>25.18</td>\n",
       "      <td>15.15</td>\n",
       "      <td>12.02</td>\n",
       "      <td>0.1</td>\n",
       "      <td>12.08</td>\n",
       "      <td>98.98</td>\n",
       "      <td>0.2</td>\n",
       "      <td>5.98</td>\n",
       "      <td>0.18</td>\n",
       "      <td>NaN</td>\n",
       "      <td>NaN</td>\n",
       "    </tr>\n",
       "    <tr>\n",
       "      <th>3</th>\n",
       "      <td>AP001</td>\n",
       "      <td>2017-11-24 20:00:00</td>\n",
       "      <td>81.50</td>\n",
       "      <td>133.25</td>\n",
       "      <td>1.95</td>\n",
       "      <td>16.25</td>\n",
       "      <td>10.23</td>\n",
       "      <td>11.58</td>\n",
       "      <td>0.1</td>\n",
       "      <td>10.47</td>\n",
       "      <td>112.20</td>\n",
       "      <td>0.2</td>\n",
       "      <td>6.72</td>\n",
       "      <td>0.10</td>\n",
       "      <td>NaN</td>\n",
       "      <td>NaN</td>\n",
       "    </tr>\n",
       "    <tr>\n",
       "      <th>4</th>\n",
       "      <td>AP001</td>\n",
       "      <td>2017-11-24 21:00:00</td>\n",
       "      <td>75.25</td>\n",
       "      <td>116.00</td>\n",
       "      <td>1.43</td>\n",
       "      <td>17.48</td>\n",
       "      <td>10.43</td>\n",
       "      <td>12.03</td>\n",
       "      <td>0.1</td>\n",
       "      <td>9.12</td>\n",
       "      <td>106.35</td>\n",
       "      <td>0.2</td>\n",
       "      <td>5.75</td>\n",
       "      <td>0.08</td>\n",
       "      <td>NaN</td>\n",
       "      <td>NaN</td>\n",
       "    </tr>\n",
       "  </tbody>\n",
       "</table>\n",
       "</div>"
      ],
      "text/plain": [
       "  StationId             Datetime  PM2.5    PM10    NO    NO2    NOx    NH3  \\\n",
       "0     AP001  2017-11-24 17:00:00  60.50   98.00  2.35  30.80  18.25   8.50   \n",
       "1     AP001  2017-11-24 18:00:00  65.50  111.25  2.70  24.20  15.07   9.77   \n",
       "2     AP001  2017-11-24 19:00:00  80.00  132.00  2.10  25.18  15.15  12.02   \n",
       "3     AP001  2017-11-24 20:00:00  81.50  133.25  1.95  16.25  10.23  11.58   \n",
       "4     AP001  2017-11-24 21:00:00  75.25  116.00  1.43  17.48  10.43  12.03   \n",
       "\n",
       "    CO    SO2      O3  Benzene  Toluene  Xylene  AQI AQI_Bucket  \n",
       "0  0.1  11.85  126.40      0.1     6.10    0.10  NaN        NaN  \n",
       "1  0.1  13.17  117.12      0.1     6.25    0.15  NaN        NaN  \n",
       "2  0.1  12.08   98.98      0.2     5.98    0.18  NaN        NaN  \n",
       "3  0.1  10.47  112.20      0.2     6.72    0.10  NaN        NaN  \n",
       "4  0.1   9.12  106.35      0.2     5.75    0.08  NaN        NaN  "
      ]
     },
     "execution_count": 3,
     "metadata": {},
     "output_type": "execute_result"
    }
   ],
   "source": [
    "df = pd.read_csv(\"station_hour.csv\")\n",
    "df.head()"
   ]
  },
  {
   "cell_type": "code",
   "execution_count": 4,
   "id": "1b1efd5a",
   "metadata": {},
   "outputs": [
    {
     "data": {
      "text/plain": [
       "StationId      object\n",
       "Datetime       object\n",
       "PM2.5         float64\n",
       "PM10          float64\n",
       "NO            float64\n",
       "NO2           float64\n",
       "NOx           float64\n",
       "NH3           float64\n",
       "CO            float64\n",
       "SO2           float64\n",
       "O3            float64\n",
       "Benzene       float64\n",
       "Toluene       float64\n",
       "Xylene        float64\n",
       "AQI           float64\n",
       "AQI_Bucket     object\n",
       "dtype: object"
      ]
     },
     "execution_count": 4,
     "metadata": {},
     "output_type": "execute_result"
    }
   ],
   "source": [
    "df.dtypes"
   ]
  },
  {
   "cell_type": "code",
   "execution_count": 5,
   "id": "ff5b54e4",
   "metadata": {},
   "outputs": [
    {
     "name": "stderr",
     "output_type": "stream",
     "text": [
      "C:\\Users\\ASUS\\anaconda3\\lib\\site-packages\\IPython\\core\\interactiveshell.py:3444: DtypeWarning: Columns (15) have mixed types.Specify dtype option on import or set low_memory=False.\n",
      "  exec(code_obj, self.user_global_ns, self.user_ns)\n"
     ]
    },
    {
     "data": {
      "text/html": [
       "<div>\n",
       "<style scoped>\n",
       "    .dataframe tbody tr th:only-of-type {\n",
       "        vertical-align: middle;\n",
       "    }\n",
       "\n",
       "    .dataframe tbody tr th {\n",
       "        vertical-align: top;\n",
       "    }\n",
       "\n",
       "    .dataframe thead th {\n",
       "        text-align: right;\n",
       "    }\n",
       "</style>\n",
       "<table border=\"1\" class=\"dataframe\">\n",
       "  <thead>\n",
       "    <tr style=\"text-align: right;\">\n",
       "      <th></th>\n",
       "      <th>StationId</th>\n",
       "      <th>Datetime</th>\n",
       "      <th>PM2.5</th>\n",
       "      <th>PM10</th>\n",
       "      <th>NO</th>\n",
       "      <th>NO2</th>\n",
       "      <th>NOx</th>\n",
       "      <th>NH3</th>\n",
       "      <th>CO</th>\n",
       "      <th>SO2</th>\n",
       "      <th>O3</th>\n",
       "      <th>Benzene</th>\n",
       "      <th>Toluene</th>\n",
       "      <th>Xylene</th>\n",
       "      <th>AQI</th>\n",
       "      <th>AQI_Bucket</th>\n",
       "    </tr>\n",
       "  </thead>\n",
       "  <tbody>\n",
       "    <tr>\n",
       "      <th>0</th>\n",
       "      <td>AP001</td>\n",
       "      <td>2017-11-24 17:00:00</td>\n",
       "      <td>60.50</td>\n",
       "      <td>98.00</td>\n",
       "      <td>2.35</td>\n",
       "      <td>30.80</td>\n",
       "      <td>18.25</td>\n",
       "      <td>8.50</td>\n",
       "      <td>0.1</td>\n",
       "      <td>11.85</td>\n",
       "      <td>126.40</td>\n",
       "      <td>0.1</td>\n",
       "      <td>6.10</td>\n",
       "      <td>0.10</td>\n",
       "      <td>NaN</td>\n",
       "      <td>NaN</td>\n",
       "    </tr>\n",
       "    <tr>\n",
       "      <th>1</th>\n",
       "      <td>AP001</td>\n",
       "      <td>2017-11-24 18:00:00</td>\n",
       "      <td>65.50</td>\n",
       "      <td>111.25</td>\n",
       "      <td>2.70</td>\n",
       "      <td>24.20</td>\n",
       "      <td>15.07</td>\n",
       "      <td>9.77</td>\n",
       "      <td>0.1</td>\n",
       "      <td>13.17</td>\n",
       "      <td>117.12</td>\n",
       "      <td>0.1</td>\n",
       "      <td>6.25</td>\n",
       "      <td>0.15</td>\n",
       "      <td>NaN</td>\n",
       "      <td>NaN</td>\n",
       "    </tr>\n",
       "    <tr>\n",
       "      <th>2</th>\n",
       "      <td>AP001</td>\n",
       "      <td>2017-11-24 19:00:00</td>\n",
       "      <td>80.00</td>\n",
       "      <td>132.00</td>\n",
       "      <td>2.10</td>\n",
       "      <td>25.18</td>\n",
       "      <td>15.15</td>\n",
       "      <td>12.02</td>\n",
       "      <td>0.1</td>\n",
       "      <td>12.08</td>\n",
       "      <td>98.98</td>\n",
       "      <td>0.2</td>\n",
       "      <td>5.98</td>\n",
       "      <td>0.18</td>\n",
       "      <td>NaN</td>\n",
       "      <td>NaN</td>\n",
       "    </tr>\n",
       "    <tr>\n",
       "      <th>3</th>\n",
       "      <td>AP001</td>\n",
       "      <td>2017-11-24 20:00:00</td>\n",
       "      <td>81.50</td>\n",
       "      <td>133.25</td>\n",
       "      <td>1.95</td>\n",
       "      <td>16.25</td>\n",
       "      <td>10.23</td>\n",
       "      <td>11.58</td>\n",
       "      <td>0.1</td>\n",
       "      <td>10.47</td>\n",
       "      <td>112.20</td>\n",
       "      <td>0.2</td>\n",
       "      <td>6.72</td>\n",
       "      <td>0.10</td>\n",
       "      <td>NaN</td>\n",
       "      <td>NaN</td>\n",
       "    </tr>\n",
       "    <tr>\n",
       "      <th>4</th>\n",
       "      <td>AP001</td>\n",
       "      <td>2017-11-24 21:00:00</td>\n",
       "      <td>75.25</td>\n",
       "      <td>116.00</td>\n",
       "      <td>1.43</td>\n",
       "      <td>17.48</td>\n",
       "      <td>10.43</td>\n",
       "      <td>12.03</td>\n",
       "      <td>0.1</td>\n",
       "      <td>9.12</td>\n",
       "      <td>106.35</td>\n",
       "      <td>0.2</td>\n",
       "      <td>5.75</td>\n",
       "      <td>0.08</td>\n",
       "      <td>NaN</td>\n",
       "      <td>NaN</td>\n",
       "    </tr>\n",
       "  </tbody>\n",
       "</table>\n",
       "</div>"
      ],
      "text/plain": [
       "  StationId            Datetime  PM2.5    PM10    NO    NO2    NOx    NH3  \\\n",
       "0     AP001 2017-11-24 17:00:00  60.50   98.00  2.35  30.80  18.25   8.50   \n",
       "1     AP001 2017-11-24 18:00:00  65.50  111.25  2.70  24.20  15.07   9.77   \n",
       "2     AP001 2017-11-24 19:00:00  80.00  132.00  2.10  25.18  15.15  12.02   \n",
       "3     AP001 2017-11-24 20:00:00  81.50  133.25  1.95  16.25  10.23  11.58   \n",
       "4     AP001 2017-11-24 21:00:00  75.25  116.00  1.43  17.48  10.43  12.03   \n",
       "\n",
       "    CO    SO2      O3  Benzene  Toluene  Xylene  AQI AQI_Bucket  \n",
       "0  0.1  11.85  126.40      0.1     6.10    0.10  NaN        NaN  \n",
       "1  0.1  13.17  117.12      0.1     6.25    0.15  NaN        NaN  \n",
       "2  0.1  12.08   98.98      0.2     5.98    0.18  NaN        NaN  \n",
       "3  0.1  10.47  112.20      0.2     6.72    0.10  NaN        NaN  \n",
       "4  0.1   9.12  106.35      0.2     5.75    0.08  NaN        NaN  "
      ]
     },
     "execution_count": 5,
     "metadata": {},
     "output_type": "execute_result"
    }
   ],
   "source": [
    "#we set parse_dates to 'datetime' to parse dates with datetime \n",
    "df = pd.read_csv(\"station_hour.csv\", parse_dates = [\"Datetime\"])\n",
    "df.head()"
   ]
  },
  {
   "cell_type": "code",
   "execution_count": 6,
   "id": "2e758ccf",
   "metadata": {},
   "outputs": [
    {
     "data": {
      "text/plain": [
       "StationId             object\n",
       "Datetime      datetime64[ns]\n",
       "PM2.5                float64\n",
       "PM10                 float64\n",
       "NO                   float64\n",
       "NO2                  float64\n",
       "NOx                  float64\n",
       "NH3                  float64\n",
       "CO                   float64\n",
       "SO2                  float64\n",
       "O3                   float64\n",
       "Benzene              float64\n",
       "Toluene              float64\n",
       "Xylene               float64\n",
       "AQI                  float64\n",
       "AQI_Bucket            object\n",
       "dtype: object"
      ]
     },
     "execution_count": 6,
     "metadata": {},
     "output_type": "execute_result"
    }
   ],
   "source": [
    "df.dtypes"
   ]
  },
  {
   "cell_type": "code",
   "execution_count": 7,
   "id": "2b3dae30",
   "metadata": {},
   "outputs": [
    {
     "data": {
      "text/html": [
       "<div>\n",
       "<style scoped>\n",
       "    .dataframe tbody tr th:only-of-type {\n",
       "        vertical-align: middle;\n",
       "    }\n",
       "\n",
       "    .dataframe tbody tr th {\n",
       "        vertical-align: top;\n",
       "    }\n",
       "\n",
       "    .dataframe thead th {\n",
       "        text-align: right;\n",
       "    }\n",
       "</style>\n",
       "<table border=\"1\" class=\"dataframe\">\n",
       "  <thead>\n",
       "    <tr style=\"text-align: right;\">\n",
       "      <th></th>\n",
       "      <th>StationId</th>\n",
       "      <th>Datetime</th>\n",
       "      <th>PM2.5</th>\n",
       "      <th>PM10</th>\n",
       "      <th>NO</th>\n",
       "      <th>NO2</th>\n",
       "      <th>NOx</th>\n",
       "      <th>NH3</th>\n",
       "      <th>CO</th>\n",
       "      <th>SO2</th>\n",
       "      <th>O3</th>\n",
       "      <th>Benzene</th>\n",
       "      <th>Toluene</th>\n",
       "      <th>Xylene</th>\n",
       "      <th>AQI</th>\n",
       "      <th>AQI_Bucket</th>\n",
       "    </tr>\n",
       "  </thead>\n",
       "  <tbody>\n",
       "    <tr>\n",
       "      <th>0</th>\n",
       "      <td>AP001</td>\n",
       "      <td>2017-11-24 17:00:00</td>\n",
       "      <td>60.50</td>\n",
       "      <td>98.00</td>\n",
       "      <td>2.35</td>\n",
       "      <td>30.80</td>\n",
       "      <td>18.25</td>\n",
       "      <td>8.50</td>\n",
       "      <td>0.1</td>\n",
       "      <td>11.85</td>\n",
       "      <td>126.40</td>\n",
       "      <td>0.1</td>\n",
       "      <td>6.10</td>\n",
       "      <td>0.10</td>\n",
       "      <td>NaN</td>\n",
       "      <td>NaN</td>\n",
       "    </tr>\n",
       "    <tr>\n",
       "      <th>1</th>\n",
       "      <td>AP001</td>\n",
       "      <td>2017-11-24 18:00:00</td>\n",
       "      <td>65.50</td>\n",
       "      <td>111.25</td>\n",
       "      <td>2.70</td>\n",
       "      <td>24.20</td>\n",
       "      <td>15.07</td>\n",
       "      <td>9.77</td>\n",
       "      <td>0.1</td>\n",
       "      <td>13.17</td>\n",
       "      <td>117.12</td>\n",
       "      <td>0.1</td>\n",
       "      <td>6.25</td>\n",
       "      <td>0.15</td>\n",
       "      <td>NaN</td>\n",
       "      <td>NaN</td>\n",
       "    </tr>\n",
       "    <tr>\n",
       "      <th>2</th>\n",
       "      <td>AP001</td>\n",
       "      <td>2017-11-24 19:00:00</td>\n",
       "      <td>80.00</td>\n",
       "      <td>132.00</td>\n",
       "      <td>2.10</td>\n",
       "      <td>25.18</td>\n",
       "      <td>15.15</td>\n",
       "      <td>12.02</td>\n",
       "      <td>0.1</td>\n",
       "      <td>12.08</td>\n",
       "      <td>98.98</td>\n",
       "      <td>0.2</td>\n",
       "      <td>5.98</td>\n",
       "      <td>0.18</td>\n",
       "      <td>NaN</td>\n",
       "      <td>NaN</td>\n",
       "    </tr>\n",
       "    <tr>\n",
       "      <th>3</th>\n",
       "      <td>AP001</td>\n",
       "      <td>2017-11-24 20:00:00</td>\n",
       "      <td>81.50</td>\n",
       "      <td>133.25</td>\n",
       "      <td>1.95</td>\n",
       "      <td>16.25</td>\n",
       "      <td>10.23</td>\n",
       "      <td>11.58</td>\n",
       "      <td>0.1</td>\n",
       "      <td>10.47</td>\n",
       "      <td>112.20</td>\n",
       "      <td>0.2</td>\n",
       "      <td>6.72</td>\n",
       "      <td>0.10</td>\n",
       "      <td>NaN</td>\n",
       "      <td>NaN</td>\n",
       "    </tr>\n",
       "    <tr>\n",
       "      <th>4</th>\n",
       "      <td>AP001</td>\n",
       "      <td>2017-11-24 21:00:00</td>\n",
       "      <td>75.25</td>\n",
       "      <td>116.00</td>\n",
       "      <td>1.43</td>\n",
       "      <td>17.48</td>\n",
       "      <td>10.43</td>\n",
       "      <td>12.03</td>\n",
       "      <td>0.1</td>\n",
       "      <td>9.12</td>\n",
       "      <td>106.35</td>\n",
       "      <td>0.2</td>\n",
       "      <td>5.75</td>\n",
       "      <td>0.08</td>\n",
       "      <td>NaN</td>\n",
       "      <td>NaN</td>\n",
       "    </tr>\n",
       "  </tbody>\n",
       "</table>\n",
       "</div>"
      ],
      "text/plain": [
       "  StationId            Datetime  PM2.5    PM10    NO    NO2    NOx    NH3  \\\n",
       "0     AP001 2017-11-24 17:00:00  60.50   98.00  2.35  30.80  18.25   8.50   \n",
       "1     AP001 2017-11-24 18:00:00  65.50  111.25  2.70  24.20  15.07   9.77   \n",
       "2     AP001 2017-11-24 19:00:00  80.00  132.00  2.10  25.18  15.15  12.02   \n",
       "3     AP001 2017-11-24 20:00:00  81.50  133.25  1.95  16.25  10.23  11.58   \n",
       "4     AP001 2017-11-24 21:00:00  75.25  116.00  1.43  17.48  10.43  12.03   \n",
       "\n",
       "    CO    SO2      O3  Benzene  Toluene  Xylene  AQI AQI_Bucket  \n",
       "0  0.1  11.85  126.40      0.1     6.10    0.10  NaN        NaN  \n",
       "1  0.1  13.17  117.12      0.1     6.25    0.15  NaN        NaN  \n",
       "2  0.1  12.08   98.98      0.2     5.98    0.18  NaN        NaN  \n",
       "3  0.1  10.47  112.20      0.2     6.72    0.10  NaN        NaN  \n",
       "4  0.1   9.12  106.35      0.2     5.75    0.08  NaN        NaN  "
      ]
     },
     "execution_count": 7,
     "metadata": {},
     "output_type": "execute_result"
    }
   ],
   "source": [
    "#sorts a data frame in Ascending or Descending order of passed Column.\n",
    "df.sort_values([\"StationId\", \"Datetime\"], inplace = True)\n",
    "df.head()"
   ]
  },
  {
   "cell_type": "code",
   "execution_count": 8,
   "id": "ff47889a",
   "metadata": {},
   "outputs": [],
   "source": [
    "df[\"Date\"] = df.Datetime.dt.date.astype(str)\n",
    "df.Datetime = df.Datetime.astype(str)\n",
    "\n",
    "#we extract date from datetime"
   ]
  },
  {
   "cell_type": "code",
   "execution_count": 9,
   "id": "61ee789d",
   "metadata": {},
   "outputs": [
    {
     "data": {
      "text/html": [
       "<div>\n",
       "<style scoped>\n",
       "    .dataframe tbody tr th:only-of-type {\n",
       "        vertical-align: middle;\n",
       "    }\n",
       "\n",
       "    .dataframe tbody tr th {\n",
       "        vertical-align: top;\n",
       "    }\n",
       "\n",
       "    .dataframe thead th {\n",
       "        text-align: right;\n",
       "    }\n",
       "</style>\n",
       "<table border=\"1\" class=\"dataframe\">\n",
       "  <thead>\n",
       "    <tr style=\"text-align: right;\">\n",
       "      <th></th>\n",
       "      <th>StationId</th>\n",
       "      <th>Datetime</th>\n",
       "      <th>PM2.5</th>\n",
       "      <th>PM10</th>\n",
       "      <th>NO</th>\n",
       "      <th>NO2</th>\n",
       "      <th>NOx</th>\n",
       "      <th>NH3</th>\n",
       "      <th>CO</th>\n",
       "      <th>SO2</th>\n",
       "      <th>O3</th>\n",
       "      <th>Benzene</th>\n",
       "      <th>Toluene</th>\n",
       "      <th>Xylene</th>\n",
       "      <th>AQI</th>\n",
       "      <th>AQI_Bucket</th>\n",
       "      <th>Date</th>\n",
       "    </tr>\n",
       "  </thead>\n",
       "  <tbody>\n",
       "    <tr>\n",
       "      <th>0</th>\n",
       "      <td>AP001</td>\n",
       "      <td>2017-11-24 17:00:00</td>\n",
       "      <td>60.50</td>\n",
       "      <td>98.00</td>\n",
       "      <td>2.35</td>\n",
       "      <td>30.80</td>\n",
       "      <td>18.25</td>\n",
       "      <td>8.50</td>\n",
       "      <td>0.1</td>\n",
       "      <td>11.85</td>\n",
       "      <td>126.40</td>\n",
       "      <td>0.1</td>\n",
       "      <td>6.10</td>\n",
       "      <td>0.10</td>\n",
       "      <td>NaN</td>\n",
       "      <td>NaN</td>\n",
       "      <td>2017-11-24</td>\n",
       "    </tr>\n",
       "    <tr>\n",
       "      <th>1</th>\n",
       "      <td>AP001</td>\n",
       "      <td>2017-11-24 18:00:00</td>\n",
       "      <td>65.50</td>\n",
       "      <td>111.25</td>\n",
       "      <td>2.70</td>\n",
       "      <td>24.20</td>\n",
       "      <td>15.07</td>\n",
       "      <td>9.77</td>\n",
       "      <td>0.1</td>\n",
       "      <td>13.17</td>\n",
       "      <td>117.12</td>\n",
       "      <td>0.1</td>\n",
       "      <td>6.25</td>\n",
       "      <td>0.15</td>\n",
       "      <td>NaN</td>\n",
       "      <td>NaN</td>\n",
       "      <td>2017-11-24</td>\n",
       "    </tr>\n",
       "    <tr>\n",
       "      <th>2</th>\n",
       "      <td>AP001</td>\n",
       "      <td>2017-11-24 19:00:00</td>\n",
       "      <td>80.00</td>\n",
       "      <td>132.00</td>\n",
       "      <td>2.10</td>\n",
       "      <td>25.18</td>\n",
       "      <td>15.15</td>\n",
       "      <td>12.02</td>\n",
       "      <td>0.1</td>\n",
       "      <td>12.08</td>\n",
       "      <td>98.98</td>\n",
       "      <td>0.2</td>\n",
       "      <td>5.98</td>\n",
       "      <td>0.18</td>\n",
       "      <td>NaN</td>\n",
       "      <td>NaN</td>\n",
       "      <td>2017-11-24</td>\n",
       "    </tr>\n",
       "    <tr>\n",
       "      <th>3</th>\n",
       "      <td>AP001</td>\n",
       "      <td>2017-11-24 20:00:00</td>\n",
       "      <td>81.50</td>\n",
       "      <td>133.25</td>\n",
       "      <td>1.95</td>\n",
       "      <td>16.25</td>\n",
       "      <td>10.23</td>\n",
       "      <td>11.58</td>\n",
       "      <td>0.1</td>\n",
       "      <td>10.47</td>\n",
       "      <td>112.20</td>\n",
       "      <td>0.2</td>\n",
       "      <td>6.72</td>\n",
       "      <td>0.10</td>\n",
       "      <td>NaN</td>\n",
       "      <td>NaN</td>\n",
       "      <td>2017-11-24</td>\n",
       "    </tr>\n",
       "    <tr>\n",
       "      <th>4</th>\n",
       "      <td>AP001</td>\n",
       "      <td>2017-11-24 21:00:00</td>\n",
       "      <td>75.25</td>\n",
       "      <td>116.00</td>\n",
       "      <td>1.43</td>\n",
       "      <td>17.48</td>\n",
       "      <td>10.43</td>\n",
       "      <td>12.03</td>\n",
       "      <td>0.1</td>\n",
       "      <td>9.12</td>\n",
       "      <td>106.35</td>\n",
       "      <td>0.2</td>\n",
       "      <td>5.75</td>\n",
       "      <td>0.08</td>\n",
       "      <td>NaN</td>\n",
       "      <td>NaN</td>\n",
       "      <td>2017-11-24</td>\n",
       "    </tr>\n",
       "  </tbody>\n",
       "</table>\n",
       "</div>"
      ],
      "text/plain": [
       "  StationId             Datetime  PM2.5    PM10    NO    NO2    NOx    NH3  \\\n",
       "0     AP001  2017-11-24 17:00:00  60.50   98.00  2.35  30.80  18.25   8.50   \n",
       "1     AP001  2017-11-24 18:00:00  65.50  111.25  2.70  24.20  15.07   9.77   \n",
       "2     AP001  2017-11-24 19:00:00  80.00  132.00  2.10  25.18  15.15  12.02   \n",
       "3     AP001  2017-11-24 20:00:00  81.50  133.25  1.95  16.25  10.23  11.58   \n",
       "4     AP001  2017-11-24 21:00:00  75.25  116.00  1.43  17.48  10.43  12.03   \n",
       "\n",
       "    CO    SO2      O3  Benzene  Toluene  Xylene  AQI AQI_Bucket        Date  \n",
       "0  0.1  11.85  126.40      0.1     6.10    0.10  NaN        NaN  2017-11-24  \n",
       "1  0.1  13.17  117.12      0.1     6.25    0.15  NaN        NaN  2017-11-24  \n",
       "2  0.1  12.08   98.98      0.2     5.98    0.18  NaN        NaN  2017-11-24  \n",
       "3  0.1  10.47  112.20      0.2     6.72    0.10  NaN        NaN  2017-11-24  \n",
       "4  0.1   9.12  106.35      0.2     5.75    0.08  NaN        NaN  2017-11-24  "
      ]
     },
     "execution_count": 9,
     "metadata": {},
     "output_type": "execute_result"
    }
   ],
   "source": [
    "df.head()"
   ]
  },
  {
   "cell_type": "markdown",
   "id": "2b19f9bc",
   "metadata": {},
   "source": [
    "The AQI calculation uses 7 measures: PM2.5, PM10, SO2, NOx, NH3, CO and O3.\n",
    "\n",
    "For PM2.5, PM10, SO2, NOx and NH3 the average value in last 24-hrs is used with the condition of having at least 16 values.\n",
    "\n",
    "For CO and O3 the maximum value in last 8-hrs is used.\n",
    "\n",
    "Each measure is converted into a Sub-Index based on pre-defined groups.\n",
    "\n",
    "Sometimes measures are not available due to lack of measuring or lack of required data points.\n",
    "\n",
    "Final AQI is the maximum Sub-Index with the condition that at least one of PM2.5 and PM10 should be available and at least three out of the seven should be available."
   ]
  },
  {
   "cell_type": "code",
   "execution_count": 10,
   "id": "c9eeec44",
   "metadata": {},
   "outputs": [],
   "source": [
    "df[\"PM10_24hr_avg\"] = df.groupby(\"StationId\")[\"PM10\"].rolling(window = 24, min_periods = 16).mean().values\n",
    "df[\"PM2.5_24hr_avg\"] = df.groupby(\"StationId\")[\"PM2.5\"].rolling(window = 24, min_periods = 16).mean().values\n",
    "df[\"SO2_24hr_avg\"] = df.groupby(\"StationId\")[\"SO2\"].rolling(window = 24, min_periods = 16).mean().values\n",
    "df[\"NOx_24hr_avg\"] = df.groupby(\"StationId\")[\"NOx\"].rolling(window = 24, min_periods = 16).mean().values\n",
    "df[\"NH3_24hr_avg\"] = df.groupby(\"StationId\")[\"NH3\"].rolling(window = 24, min_periods = 16).mean().values\n",
    "df[\"CO_8hr_max\"] = df.groupby(\"StationId\")[\"CO\"].rolling(window = 8, min_periods = 1).max().values\n",
    "df[\"O3_8hr_max\"] = df.groupby(\"StationId\")[\"O3\"].rolling(window = 8, min_periods = 1).max().values"
   ]
  },
  {
   "cell_type": "markdown",
   "id": "7b77472f",
   "metadata": {},
   "source": [
    "## PM2.5"
   ]
  },
  {
   "cell_type": "code",
   "execution_count": 11,
   "id": "d2717f6b",
   "metadata": {},
   "outputs": [],
   "source": [
    "## PM2.5 Sub-Index calculation\n",
    "def get_PM25_subindex(x):\n",
    "    if x <= 30:\n",
    "        return x * 50 / 30\n",
    "    elif x <= 60:\n",
    "        return 50 + (x - 30) * 50 / 30\n",
    "    elif x <= 90:\n",
    "        return 100 + (x - 60) * 100 / 30\n",
    "    elif x <= 120:\n",
    "        return 200 + (x - 90) * 100 / 30\n",
    "    elif x <= 250:\n",
    "        return 300 + (x - 120) * 100 / 130\n",
    "    elif x > 250:\n",
    "        return 400 + (x - 250) * 100 / 130\n",
    "    else:\n",
    "        return 0\n",
    "\n",
    "df[\"PM2.5_SubIndex\"] = df[\"PM2.5_24hr_avg\"].apply(lambda x: get_PM25_subindex(x))"
   ]
  },
  {
   "cell_type": "markdown",
   "id": "2e592c7e",
   "metadata": {},
   "source": [
    "## PM10"
   ]
  },
  {
   "cell_type": "code",
   "execution_count": 12,
   "id": "c1d987ea",
   "metadata": {},
   "outputs": [],
   "source": [
    "## PM10 Sub-Index calculation\n",
    "def get_PM10_subindex(x):\n",
    "    if x <= 50:\n",
    "        return x\n",
    "    elif x <= 100:\n",
    "        return x\n",
    "    elif x <= 250:\n",
    "        return 100 + (x - 100) * 100 / 150\n",
    "    elif x <= 350:\n",
    "        return 200 + (x - 250)\n",
    "    elif x <= 430:\n",
    "        return 300 + (x - 350) * 100 / 80\n",
    "    elif x > 430:\n",
    "        return 400 + (x - 430) * 100 / 80\n",
    "    else:\n",
    "        return 0\n",
    "\n",
    "df[\"PM10_SubIndex\"] = df[\"PM10_24hr_avg\"].apply(lambda x: get_PM10_subindex(x))"
   ]
  },
  {
   "cell_type": "markdown",
   "id": "08d6ee94",
   "metadata": {},
   "source": [
    "## SO2 (Sulphur Dioxide)"
   ]
  },
  {
   "cell_type": "code",
   "execution_count": 13,
   "id": "fd50304e",
   "metadata": {},
   "outputs": [],
   "source": [
    "## SO2 Sub-Index calculation\n",
    "def get_SO2_subindex(x):\n",
    "    if x <= 40:\n",
    "        return x * 50 / 40\n",
    "    elif x <= 80:\n",
    "        return 50 + (x - 40) * 50 / 40\n",
    "    elif x <= 380:\n",
    "        return 100 + (x - 80) * 100 / 300\n",
    "    elif x <= 800:\n",
    "        return 200 + (x - 380) * 100 / 420\n",
    "    elif x <= 1600:\n",
    "        return 300 + (x - 800) * 100 / 800\n",
    "    elif x > 1600:\n",
    "        return 400 + (x - 1600) * 100 / 800\n",
    "    else:\n",
    "        return 0\n",
    "\n",
    "df[\"SO2_SubIndex\"] = df[\"SO2_24hr_avg\"].apply(lambda x: get_SO2_subindex(x))"
   ]
  },
  {
   "cell_type": "markdown",
   "id": "d86bd3d6",
   "metadata": {},
   "source": [
    "## NOx (Any Nitric x-oxide)"
   ]
  },
  {
   "cell_type": "code",
   "execution_count": 14,
   "id": "d65b555e",
   "metadata": {},
   "outputs": [],
   "source": [
    "## NOx Sub-Index calculation\n",
    "def get_NOx_subindex(x):\n",
    "    if x <= 40:\n",
    "        return x * 50 / 40\n",
    "    elif x <= 80:\n",
    "        return 50 + (x - 40) * 50 / 40\n",
    "    elif x <= 180:\n",
    "        return 100 + (x - 80) * 100 / 100\n",
    "    elif x <= 280:\n",
    "        return 200 + (x - 180) * 100 / 100\n",
    "    elif x <= 400:\n",
    "        return 300 + (x - 280) * 100 / 120\n",
    "    elif x > 400:\n",
    "        return 400 + (x - 400) * 100 / 120\n",
    "    else:\n",
    "        return 0\n",
    "\n",
    "df[\"NOx_SubIndex\"] = df[\"NOx_24hr_avg\"].apply(lambda x: get_NOx_subindex(x))"
   ]
  },
  {
   "cell_type": "markdown",
   "id": "7632ba65",
   "metadata": {},
   "source": [
    "## NH3 (Ammonia)"
   ]
  },
  {
   "cell_type": "code",
   "execution_count": 15,
   "id": "57855636",
   "metadata": {},
   "outputs": [],
   "source": [
    "## NH3 Sub-Index calculation\n",
    "def get_NH3_subindex(x):\n",
    "    if x <= 200:\n",
    "        return x * 50 / 200\n",
    "    elif x <= 400:\n",
    "        return 50 + (x - 200) * 50 / 200\n",
    "    elif x <= 800:\n",
    "        return 100 + (x - 400) * 100 / 400\n",
    "    elif x <= 1200:\n",
    "        return 200 + (x - 800) * 100 / 400\n",
    "    elif x <= 1800:\n",
    "        return 300 + (x - 1200) * 100 / 600\n",
    "    elif x > 1800:\n",
    "        return 400 + (x - 1800) * 100 / 600\n",
    "    else:\n",
    "        return 0\n",
    "\n",
    "df[\"NH3_SubIndex\"] = df[\"NH3_24hr_avg\"].apply(lambda x: get_NH3_subindex(x))"
   ]
  },
  {
   "cell_type": "markdown",
   "id": "c09a2791",
   "metadata": {},
   "source": [
    "## CO (Carbon Monoxide)"
   ]
  },
  {
   "cell_type": "code",
   "execution_count": 16,
   "id": "716d306f",
   "metadata": {},
   "outputs": [],
   "source": [
    "## CO Sub-Index calculation\n",
    "def get_CO_subindex(x):\n",
    "    if x <= 1:\n",
    "        return x * 50 / 1\n",
    "    elif x <= 2:\n",
    "        return 50 + (x - 1) * 50 / 1\n",
    "    elif x <= 10:\n",
    "        return 100 + (x - 2) * 100 / 8\n",
    "    elif x <= 17:\n",
    "        return 200 + (x - 10) * 100 / 7\n",
    "    elif x <= 34:\n",
    "        return 300 + (x - 17) * 100 / 17\n",
    "    elif x > 34:\n",
    "        return 400 + (x - 34) * 100 / 17\n",
    "    else:\n",
    "        return 0\n",
    "\n",
    "df[\"CO_SubIndex\"] = df[\"CO_8hr_max\"].apply(lambda x: get_CO_subindex(x))"
   ]
  },
  {
   "cell_type": "markdown",
   "id": "d4006a76",
   "metadata": {},
   "source": [
    "## O3 (Ozone or Trioxygen)"
   ]
  },
  {
   "cell_type": "code",
   "execution_count": 17,
   "id": "b645bbc8",
   "metadata": {},
   "outputs": [],
   "source": [
    "## O3 Sub-Index calculation\n",
    "def get_O3_subindex(x):\n",
    "    if x <= 50:\n",
    "        return x * 50 / 50\n",
    "    elif x <= 100:\n",
    "        return 50 + (x - 50) * 50 / 50\n",
    "    elif x <= 168:\n",
    "        return 100 + (x - 100) * 100 / 68\n",
    "    elif x <= 208:\n",
    "        return 200 + (x - 168) * 100 / 40\n",
    "    elif x <= 748:\n",
    "        return 300 + (x - 208) * 100 / 539\n",
    "    elif x > 748:\n",
    "        return 400 + (x - 400) * 100 / 539\n",
    "    else:\n",
    "        return 0\n",
    "\n",
    "df[\"O3_SubIndex\"] = df[\"O3_8hr_max\"].apply(lambda x: get_O3_subindex(x))"
   ]
  },
  {
   "cell_type": "markdown",
   "id": "9211f2d4",
   "metadata": {},
   "source": [
    "AQI The final AQI is the maximum Sub-Index among the available sub-indices with the condition that at least one of PM2.5 and PM10 should be available and at least three out of the seven should be available.\n",
    "\n",
    "There is no theoretical upper value of AQI but its rare to find values over 1000.\n",
    "\n",
    "The pre-defined buckets of AQI are as follows:\n",
    "\n",
    "00 - 50 - Good - minimal impact\n",
    "\n",
    "51 -100 - satisfactory -  minor breating discomfort to sensitive peolpe\n",
    "\n",
    "101-200 - Moderate - breathing discomfort to the people with lung, heart disease, children, and older people\n",
    "\n",
    "201-300 - Poor - Breathing discomfort to people on prolonged exposure\n",
    "\n",
    "301-400 - Very Poor - Respiratory illness to people on prolonged exposure\n",
    "\n",
    ">401    - Respiratory effects on healthy people"
   ]
  },
  {
   "cell_type": "code",
   "execution_count": 23,
   "id": "02f99ccf",
   "metadata": {},
   "outputs": [
    {
     "data": {
      "text/html": [
       "<div>\n",
       "<style scoped>\n",
       "    .dataframe tbody tr th:only-of-type {\n",
       "        vertical-align: middle;\n",
       "    }\n",
       "\n",
       "    .dataframe tbody tr th {\n",
       "        vertical-align: top;\n",
       "    }\n",
       "\n",
       "    .dataframe thead th {\n",
       "        text-align: right;\n",
       "    }\n",
       "</style>\n",
       "<table border=\"1\" class=\"dataframe\">\n",
       "  <thead>\n",
       "    <tr style=\"text-align: right;\">\n",
       "      <th></th>\n",
       "      <th>PM2.5_SubIndex</th>\n",
       "      <th>PM10_SubIndex</th>\n",
       "      <th>SO2_SubIndex</th>\n",
       "      <th>NOx_SubIndex</th>\n",
       "      <th>NH3_SubIndex</th>\n",
       "      <th>CO_SubIndex</th>\n",
       "      <th>O3_SubIndex</th>\n",
       "      <th>AQI_calculated</th>\n",
       "      <th>AQI_bucket_calculated</th>\n",
       "    </tr>\n",
       "  </thead>\n",
       "  <tbody>\n",
       "    <tr>\n",
       "      <th>16</th>\n",
       "      <td>155.468750</td>\n",
       "      <td>112.562500</td>\n",
       "      <td>14.349219</td>\n",
       "      <td>15.366406</td>\n",
       "      <td>2.844844</td>\n",
       "      <td>5.0</td>\n",
       "      <td>125.911765</td>\n",
       "      <td>155.0</td>\n",
       "      <td>Moderate</td>\n",
       "    </tr>\n",
       "    <tr>\n",
       "      <th>17</th>\n",
       "      <td>158.970588</td>\n",
       "      <td>113.470588</td>\n",
       "      <td>14.755147</td>\n",
       "      <td>15.179412</td>\n",
       "      <td>2.819412</td>\n",
       "      <td>5.0</td>\n",
       "      <td>153.279412</td>\n",
       "      <td>159.0</td>\n",
       "      <td>Moderate</td>\n",
       "    </tr>\n",
       "    <tr>\n",
       "      <th>18</th>\n",
       "      <td>159.907407</td>\n",
       "      <td>113.703704</td>\n",
       "      <td>15.004861</td>\n",
       "      <td>14.965972</td>\n",
       "      <td>2.797500</td>\n",
       "      <td>5.0</td>\n",
       "      <td>173.411765</td>\n",
       "      <td>173.0</td>\n",
       "      <td>Moderate</td>\n",
       "    </tr>\n",
       "  </tbody>\n",
       "</table>\n",
       "</div>"
      ],
      "text/plain": [
       "    PM2.5_SubIndex  PM10_SubIndex  SO2_SubIndex  NOx_SubIndex  NH3_SubIndex  \\\n",
       "16      155.468750     112.562500     14.349219     15.366406      2.844844   \n",
       "17      158.970588     113.470588     14.755147     15.179412      2.819412   \n",
       "18      159.907407     113.703704     15.004861     14.965972      2.797500   \n",
       "\n",
       "    CO_SubIndex  O3_SubIndex  AQI_calculated AQI_bucket_calculated  \n",
       "16          5.0   125.911765           155.0              Moderate  \n",
       "17          5.0   153.279412           159.0              Moderate  \n",
       "18          5.0   173.411765           173.0              Moderate  "
      ]
     },
     "execution_count": 23,
     "metadata": {},
     "output_type": "execute_result"
    }
   ],
   "source": [
    "## AQI bucketing\n",
    "def get_AQI_bucket(x):\n",
    "    if x <= 50:\n",
    "        return \"Good\"\n",
    "    elif x <= 100:\n",
    "        return \"Satisfactory\"\n",
    "    elif x <= 200:\n",
    "        return \"Moderate\"\n",
    "    elif x <= 300:\n",
    "        return \"Poor\"\n",
    "    elif x <= 400:\n",
    "        return \"Very Poor\"\n",
    "    elif x > 400:\n",
    "        return \"Severe\"\n",
    "    else:\n",
    "        return np.NaN\n",
    "    \n",
    "\n",
    "df[\"AQI_calculated\"] = round(df[[\"PM2.5_SubIndex\", \"PM10_SubIndex\", \"SO2_SubIndex\", \"NOx_SubIndex\",\n",
    "                                 \"NH3_SubIndex\", \"CO_SubIndex\", \"O3_SubIndex\"]].max(axis = 1))\n",
    "df.loc[df[\"PM2.5_SubIndex\"] + df[\"PM10_SubIndex\"] <= 0, \"AQI_calculated\"] = np.nan\n",
    "df[\"AQI_bucket_calculated\"] = df[\"AQI_calculated\"].apply(lambda x: get_AQI_bucket(x))\n",
    "df[~df.AQI_calculated.isna()].head(3)"
   ]
  },
  {
   "cell_type": "code",
   "execution_count": 19,
   "id": "feb16701",
   "metadata": {},
   "outputs": [
    {
     "data": {
      "text/plain": [
       "Moderate        675060\n",
       "Satisfactory    530195\n",
       "Very Poor       301823\n",
       "Poor            240024\n",
       "Good            152113\n",
       "Severe          121243\n",
       "Name: AQI_bucket_calculated, dtype: int64"
      ]
     },
     "execution_count": 19,
     "metadata": {},
     "output_type": "execute_result"
    }
   ],
   "source": [
    "df[~df.AQI_calculated.isna()].AQI_bucket_calculated.value_counts()"
   ]
  },
  {
   "cell_type": "code",
   "execution_count": 20,
   "id": "4780408a",
   "metadata": {},
   "outputs": [],
   "source": [
    "df = df[['PM2.5_SubIndex','PM10_SubIndex','SO2_SubIndex','NOx_SubIndex','NH3_SubIndex','CO_SubIndex','O3_SubIndex','AQI_calculated','AQI_bucket_calculated']]"
   ]
  },
  {
   "cell_type": "code",
   "execution_count": 21,
   "id": "2273a6bd",
   "metadata": {},
   "outputs": [
    {
     "data": {
      "text/html": [
       "<div>\n",
       "<style scoped>\n",
       "    .dataframe tbody tr th:only-of-type {\n",
       "        vertical-align: middle;\n",
       "    }\n",
       "\n",
       "    .dataframe tbody tr th {\n",
       "        vertical-align: top;\n",
       "    }\n",
       "\n",
       "    .dataframe thead th {\n",
       "        text-align: right;\n",
       "    }\n",
       "</style>\n",
       "<table border=\"1\" class=\"dataframe\">\n",
       "  <thead>\n",
       "    <tr style=\"text-align: right;\">\n",
       "      <th></th>\n",
       "      <th>PM2.5_SubIndex</th>\n",
       "      <th>PM10_SubIndex</th>\n",
       "      <th>SO2_SubIndex</th>\n",
       "      <th>NOx_SubIndex</th>\n",
       "      <th>NH3_SubIndex</th>\n",
       "      <th>CO_SubIndex</th>\n",
       "      <th>O3_SubIndex</th>\n",
       "      <th>AQI_calculated</th>\n",
       "      <th>AQI_bucket_calculated</th>\n",
       "    </tr>\n",
       "  </thead>\n",
       "  <tbody>\n",
       "    <tr>\n",
       "      <th>0</th>\n",
       "      <td>0.0</td>\n",
       "      <td>0.0</td>\n",
       "      <td>0.0</td>\n",
       "      <td>0.0</td>\n",
       "      <td>0.0</td>\n",
       "      <td>5.0</td>\n",
       "      <td>138.823529</td>\n",
       "      <td>NaN</td>\n",
       "      <td>NaN</td>\n",
       "    </tr>\n",
       "    <tr>\n",
       "      <th>1</th>\n",
       "      <td>0.0</td>\n",
       "      <td>0.0</td>\n",
       "      <td>0.0</td>\n",
       "      <td>0.0</td>\n",
       "      <td>0.0</td>\n",
       "      <td>5.0</td>\n",
       "      <td>138.823529</td>\n",
       "      <td>NaN</td>\n",
       "      <td>NaN</td>\n",
       "    </tr>\n",
       "    <tr>\n",
       "      <th>2</th>\n",
       "      <td>0.0</td>\n",
       "      <td>0.0</td>\n",
       "      <td>0.0</td>\n",
       "      <td>0.0</td>\n",
       "      <td>0.0</td>\n",
       "      <td>5.0</td>\n",
       "      <td>138.823529</td>\n",
       "      <td>NaN</td>\n",
       "      <td>NaN</td>\n",
       "    </tr>\n",
       "    <tr>\n",
       "      <th>3</th>\n",
       "      <td>0.0</td>\n",
       "      <td>0.0</td>\n",
       "      <td>0.0</td>\n",
       "      <td>0.0</td>\n",
       "      <td>0.0</td>\n",
       "      <td>5.0</td>\n",
       "      <td>138.823529</td>\n",
       "      <td>NaN</td>\n",
       "      <td>NaN</td>\n",
       "    </tr>\n",
       "    <tr>\n",
       "      <th>4</th>\n",
       "      <td>0.0</td>\n",
       "      <td>0.0</td>\n",
       "      <td>0.0</td>\n",
       "      <td>0.0</td>\n",
       "      <td>0.0</td>\n",
       "      <td>5.0</td>\n",
       "      <td>138.823529</td>\n",
       "      <td>NaN</td>\n",
       "      <td>NaN</td>\n",
       "    </tr>\n",
       "  </tbody>\n",
       "</table>\n",
       "</div>"
      ],
      "text/plain": [
       "   PM2.5_SubIndex  PM10_SubIndex  SO2_SubIndex  NOx_SubIndex  NH3_SubIndex  \\\n",
       "0             0.0            0.0           0.0           0.0           0.0   \n",
       "1             0.0            0.0           0.0           0.0           0.0   \n",
       "2             0.0            0.0           0.0           0.0           0.0   \n",
       "3             0.0            0.0           0.0           0.0           0.0   \n",
       "4             0.0            0.0           0.0           0.0           0.0   \n",
       "\n",
       "   CO_SubIndex  O3_SubIndex  AQI_calculated AQI_bucket_calculated  \n",
       "0          5.0   138.823529             NaN                   NaN  \n",
       "1          5.0   138.823529             NaN                   NaN  \n",
       "2          5.0   138.823529             NaN                   NaN  \n",
       "3          5.0   138.823529             NaN                   NaN  \n",
       "4          5.0   138.823529             NaN                   NaN  "
      ]
     },
     "execution_count": 21,
     "metadata": {},
     "output_type": "execute_result"
    }
   ],
   "source": [
    "df.head()"
   ]
  },
  {
   "cell_type": "code",
   "execution_count": 24,
   "id": "41ba626e",
   "metadata": {},
   "outputs": [
    {
     "data": {
      "text/plain": [
       "(2589083, 9)"
      ]
     },
     "execution_count": 24,
     "metadata": {},
     "output_type": "execute_result"
    }
   ],
   "source": [
    "df.shape"
   ]
  },
  {
   "cell_type": "code",
   "execution_count": 25,
   "id": "c2c55b56",
   "metadata": {},
   "outputs": [
    {
     "data": {
      "text/plain": [
       "PM2.5_SubIndex                0\n",
       "PM10_SubIndex                 0\n",
       "SO2_SubIndex                  0\n",
       "NOx_SubIndex                  0\n",
       "NH3_SubIndex                  0\n",
       "CO_SubIndex                   0\n",
       "O3_SubIndex                   0\n",
       "AQI_calculated           558590\n",
       "AQI_bucket_calculated    558590\n",
       "dtype: int64"
      ]
     },
     "execution_count": 25,
     "metadata": {},
     "output_type": "execute_result"
    }
   ],
   "source": [
    "df.isnull().sum()"
   ]
  },
  {
   "cell_type": "code",
   "execution_count": 26,
   "id": "c1a9168a",
   "metadata": {},
   "outputs": [],
   "source": [
    "df=df.dropna(how='any')"
   ]
  },
  {
   "cell_type": "code",
   "execution_count": 27,
   "id": "44c2c4cb",
   "metadata": {},
   "outputs": [
    {
     "data": {
      "text/plain": [
       "PM2.5_SubIndex           0\n",
       "PM10_SubIndex            0\n",
       "SO2_SubIndex             0\n",
       "NOx_SubIndex             0\n",
       "NH3_SubIndex             0\n",
       "CO_SubIndex              0\n",
       "O3_SubIndex              0\n",
       "AQI_calculated           0\n",
       "AQI_bucket_calculated    0\n",
       "dtype: int64"
      ]
     },
     "execution_count": 27,
     "metadata": {},
     "output_type": "execute_result"
    }
   ],
   "source": [
    "df.isnull().sum()"
   ]
  },
  {
   "cell_type": "code",
   "execution_count": 28,
   "id": "8ca726f0",
   "metadata": {},
   "outputs": [
    {
     "data": {
      "text/plain": [
       "(2030493, 9)"
      ]
     },
     "execution_count": 28,
     "metadata": {},
     "output_type": "execute_result"
    }
   ],
   "source": [
    "df.shape"
   ]
  },
  {
   "cell_type": "code",
   "execution_count": 29,
   "id": "f182ccb3",
   "metadata": {},
   "outputs": [
    {
     "data": {
      "text/html": [
       "<div>\n",
       "<style scoped>\n",
       "    .dataframe tbody tr th:only-of-type {\n",
       "        vertical-align: middle;\n",
       "    }\n",
       "\n",
       "    .dataframe tbody tr th {\n",
       "        vertical-align: top;\n",
       "    }\n",
       "\n",
       "    .dataframe thead th {\n",
       "        text-align: right;\n",
       "    }\n",
       "</style>\n",
       "<table border=\"1\" class=\"dataframe\">\n",
       "  <thead>\n",
       "    <tr style=\"text-align: right;\">\n",
       "      <th></th>\n",
       "      <th>PM2.5_SubIndex</th>\n",
       "      <th>PM10_SubIndex</th>\n",
       "      <th>SO2_SubIndex</th>\n",
       "      <th>NOx_SubIndex</th>\n",
       "      <th>NH3_SubIndex</th>\n",
       "      <th>CO_SubIndex</th>\n",
       "      <th>O3_SubIndex</th>\n",
       "    </tr>\n",
       "  </thead>\n",
       "  <tbody>\n",
       "    <tr>\n",
       "      <th>16</th>\n",
       "      <td>155.468750</td>\n",
       "      <td>112.562500</td>\n",
       "      <td>14.349219</td>\n",
       "      <td>15.366406</td>\n",
       "      <td>2.844844</td>\n",
       "      <td>5.0</td>\n",
       "      <td>125.911765</td>\n",
       "    </tr>\n",
       "    <tr>\n",
       "      <th>17</th>\n",
       "      <td>158.970588</td>\n",
       "      <td>113.470588</td>\n",
       "      <td>14.755147</td>\n",
       "      <td>15.179412</td>\n",
       "      <td>2.819412</td>\n",
       "      <td>5.0</td>\n",
       "      <td>153.279412</td>\n",
       "    </tr>\n",
       "    <tr>\n",
       "      <th>18</th>\n",
       "      <td>159.907407</td>\n",
       "      <td>113.703704</td>\n",
       "      <td>15.004861</td>\n",
       "      <td>14.965972</td>\n",
       "      <td>2.797500</td>\n",
       "      <td>5.0</td>\n",
       "      <td>173.411765</td>\n",
       "    </tr>\n",
       "    <tr>\n",
       "      <th>19</th>\n",
       "      <td>160.087719</td>\n",
       "      <td>113.824561</td>\n",
       "      <td>15.004861</td>\n",
       "      <td>15.200000</td>\n",
       "      <td>2.773947</td>\n",
       "      <td>5.0</td>\n",
       "      <td>183.529412</td>\n",
       "    </tr>\n",
       "    <tr>\n",
       "      <th>20</th>\n",
       "      <td>160.087719</td>\n",
       "      <td>113.824561</td>\n",
       "      <td>15.004861</td>\n",
       "      <td>15.200000</td>\n",
       "      <td>2.773947</td>\n",
       "      <td>5.0</td>\n",
       "      <td>183.529412</td>\n",
       "    </tr>\n",
       "  </tbody>\n",
       "</table>\n",
       "</div>"
      ],
      "text/plain": [
       "    PM2.5_SubIndex  PM10_SubIndex  SO2_SubIndex  NOx_SubIndex  NH3_SubIndex  \\\n",
       "16      155.468750     112.562500     14.349219     15.366406      2.844844   \n",
       "17      158.970588     113.470588     14.755147     15.179412      2.819412   \n",
       "18      159.907407     113.703704     15.004861     14.965972      2.797500   \n",
       "19      160.087719     113.824561     15.004861     15.200000      2.773947   \n",
       "20      160.087719     113.824561     15.004861     15.200000      2.773947   \n",
       "\n",
       "    CO_SubIndex  O3_SubIndex  \n",
       "16          5.0   125.911765  \n",
       "17          5.0   153.279412  \n",
       "18          5.0   173.411765  \n",
       "19          5.0   183.529412  \n",
       "20          5.0   183.529412  "
      ]
     },
     "execution_count": 29,
     "metadata": {},
     "output_type": "execute_result"
    }
   ],
   "source": [
    "from sklearn.model_selection import train_test_split\n",
    "x = df.iloc[:,:-2]\n",
    "y = df.AQI_calculated\n",
    "x.head()"
   ]
  },
  {
   "cell_type": "code",
   "execution_count": 30,
   "id": "ac6223e0",
   "metadata": {},
   "outputs": [
    {
     "data": {
      "text/plain": [
       "16    155.0\n",
       "17    159.0\n",
       "18    173.0\n",
       "19    184.0\n",
       "20    184.0\n",
       "Name: AQI_calculated, dtype: float64"
      ]
     },
     "execution_count": 30,
     "metadata": {},
     "output_type": "execute_result"
    }
   ],
   "source": [
    "y.head()"
   ]
  },
  {
   "cell_type": "code",
   "execution_count": 31,
   "id": "5beb5208",
   "metadata": {},
   "outputs": [],
   "source": [
    "X_train, X_test, y_train, y_test = train_test_split(x, y, test_size = 0.2, random_state = 0)"
   ]
  },
  {
   "cell_type": "markdown",
   "id": "e02979f5",
   "metadata": {},
   "source": [
    "## Linear Regression"
   ]
  },
  {
   "cell_type": "code",
   "execution_count": 32,
   "id": "3a5d16c8",
   "metadata": {},
   "outputs": [
    {
     "data": {
      "text/plain": [
       "LinearRegression()"
      ]
     },
     "execution_count": 32,
     "metadata": {},
     "output_type": "execute_result"
    }
   ],
   "source": [
    "from sklearn.linear_model import LinearRegression\n",
    "lin_reg = LinearRegression()\n",
    "lin_reg1 = lin_reg.fit(X_train, y_train)\n",
    "lin_reg1"
   ]
  },
  {
   "cell_type": "code",
   "execution_count": 34,
   "id": "0caf72ec",
   "metadata": {},
   "outputs": [],
   "source": [
    "y_pred_reg = lin_reg.predict(X_test)"
   ]
  },
  {
   "cell_type": "code",
   "execution_count": 35,
   "id": "c73029bb",
   "metadata": {},
   "outputs": [],
   "source": [
    "y_pred_reg = lin_reg.predict(X_test)"
   ]
  },
  {
   "cell_type": "code",
   "execution_count": 36,
   "id": "c8ec4bce",
   "metadata": {},
   "outputs": [
    {
     "data": {
      "text/plain": [
       "array([43.9713807])"
      ]
     },
     "execution_count": 36,
     "metadata": {},
     "output_type": "execute_result"
    }
   ],
   "source": [
    "input_data = [26,29,11,10,1,18,45] \n",
    "prediction = lin_reg.predict([input_data])\n",
    "prediction"
   ]
  },
  {
   "cell_type": "markdown",
   "id": "a59c7c1d",
   "metadata": {},
   "source": []
  },
  {
   "cell_type": "markdown",
   "id": "30245c1f",
   "metadata": {},
   "source": [
    "# Fetching Real Time Data"
   ]
  },
  {
   "cell_type": "code",
   "execution_count": 76,
   "id": "dee4b08f",
   "metadata": {},
   "outputs": [],
   "source": [
    "#there are two arguments that user needs to input - API Key Filter criteria\n",
    "\n",
    "def getData(api, filters):\n",
    "    url1 = \"https://api.data.gov.in/resource/3b01bcb8-0b14-4abf-b6f2-c1bfd384ba69?api-key=\" + api + \"&format=json&limit=500\"\n",
    "    criteriaAll = [[(k, re.sub(r'\\s+', '%20', v)) for v in criteria[k]] for k in criteria]\n",
    "    url2 = [url1 + ''.join(f'&filters[{ls}]={value}' for ls, value in p) for p in product(*criteriaAll)]\n",
    "    \n",
    "    pollutionDfAll = pd.DataFrame()\n",
    "    for i in url2:\n",
    "        response = requests.get(i, verify=False)\n",
    "        response_dict = json.loads(response.text)\n",
    "        pollutionDf = pd.DataFrame(response_dict['records'])\n",
    "        pollutionDfAll = pd.concat([pollutionDfAll, pollutionDf])\n",
    "    \n",
    "    return pollutionDfAll\n",
    "\n"
   ]
  },
  {
   "cell_type": "code",
   "execution_count": 82,
   "id": "76983fa9",
   "metadata": {},
   "outputs": [
    {
     "name": "stderr",
     "output_type": "stream",
     "text": [
      "C:\\Users\\ASUS\\anaconda3\\lib\\site-packages\\urllib3\\connectionpool.py:1013: InsecureRequestWarning: Unverified HTTPS request is being made to host 'api.data.gov.in'. Adding certificate verification is strongly advised. See: https://urllib3.readthedocs.io/en/1.26.x/advanced-usage.html#ssl-warnings\n",
      "  warnings.warn(\n",
      "C:\\Users\\ASUS\\anaconda3\\lib\\site-packages\\urllib3\\connectionpool.py:1013: InsecureRequestWarning: Unverified HTTPS request is being made to host 'api.data.gov.in'. Adding certificate verification is strongly advised. See: https://urllib3.readthedocs.io/en/1.26.x/advanced-usage.html#ssl-warnings\n",
      "  warnings.warn(\n",
      "C:\\Users\\ASUS\\anaconda3\\lib\\site-packages\\urllib3\\connectionpool.py:1013: InsecureRequestWarning: Unverified HTTPS request is being made to host 'api.data.gov.in'. Adding certificate verification is strongly advised. See: https://urllib3.readthedocs.io/en/1.26.x/advanced-usage.html#ssl-warnings\n",
      "  warnings.warn(\n",
      "C:\\Users\\ASUS\\anaconda3\\lib\\site-packages\\urllib3\\connectionpool.py:1013: InsecureRequestWarning: Unverified HTTPS request is being made to host 'api.data.gov.in'. Adding certificate verification is strongly advised. See: https://urllib3.readthedocs.io/en/1.26.x/advanced-usage.html#ssl-warnings\n",
      "  warnings.warn(\n",
      "C:\\Users\\ASUS\\anaconda3\\lib\\site-packages\\urllib3\\connectionpool.py:1013: InsecureRequestWarning: Unverified HTTPS request is being made to host 'api.data.gov.in'. Adding certificate verification is strongly advised. See: https://urllib3.readthedocs.io/en/1.26.x/advanced-usage.html#ssl-warnings\n",
      "  warnings.warn(\n"
     ]
    },
    {
     "data": {
      "text/html": [
       "<div>\n",
       "<style scoped>\n",
       "    .dataframe tbody tr th:only-of-type {\n",
       "        vertical-align: middle;\n",
       "    }\n",
       "\n",
       "    .dataframe tbody tr th {\n",
       "        vertical-align: top;\n",
       "    }\n",
       "\n",
       "    .dataframe thead th {\n",
       "        text-align: right;\n",
       "    }\n",
       "</style>\n",
       "<table border=\"1\" class=\"dataframe\">\n",
       "  <thead>\n",
       "    <tr style=\"text-align: right;\">\n",
       "      <th></th>\n",
       "      <th>id</th>\n",
       "      <th>country</th>\n",
       "      <th>state</th>\n",
       "      <th>city</th>\n",
       "      <th>station</th>\n",
       "      <th>last_update</th>\n",
       "      <th>pollutant_id</th>\n",
       "      <th>pollutant_min</th>\n",
       "      <th>pollutant_max</th>\n",
       "      <th>pollutant_avg</th>\n",
       "      <th>pollutant_unit</th>\n",
       "    </tr>\n",
       "  </thead>\n",
       "  <tbody>\n",
       "    <tr>\n",
       "      <th>0</th>\n",
       "      <td>1257</td>\n",
       "      <td>India</td>\n",
       "      <td>Maharashtra</td>\n",
       "      <td>Nagpur</td>\n",
       "      <td>Opp GPO Civil Lines, Nagpur - MPCB</td>\n",
       "      <td>03-10-2022 18:00:00</td>\n",
       "      <td>PM2.5</td>\n",
       "      <td>29</td>\n",
       "      <td>57</td>\n",
       "      <td>41</td>\n",
       "      <td>NA</td>\n",
       "    </tr>\n",
       "    <tr>\n",
       "      <th>1</th>\n",
       "      <td>1258</td>\n",
       "      <td>India</td>\n",
       "      <td>Maharashtra</td>\n",
       "      <td>Nagpur</td>\n",
       "      <td>Opp GPO Civil Lines, Nagpur - MPCB</td>\n",
       "      <td>03-10-2022 18:00:00</td>\n",
       "      <td>PM10</td>\n",
       "      <td>34</td>\n",
       "      <td>75</td>\n",
       "      <td>49</td>\n",
       "      <td>NA</td>\n",
       "    </tr>\n",
       "    <tr>\n",
       "      <th>2</th>\n",
       "      <td>1259</td>\n",
       "      <td>India</td>\n",
       "      <td>Maharashtra</td>\n",
       "      <td>Nagpur</td>\n",
       "      <td>Opp GPO Civil Lines, Nagpur - MPCB</td>\n",
       "      <td>03-10-2022 18:00:00</td>\n",
       "      <td>NO2</td>\n",
       "      <td>6</td>\n",
       "      <td>70</td>\n",
       "      <td>18</td>\n",
       "      <td>NA</td>\n",
       "    </tr>\n",
       "    <tr>\n",
       "      <th>3</th>\n",
       "      <td>1260</td>\n",
       "      <td>India</td>\n",
       "      <td>Maharashtra</td>\n",
       "      <td>Nagpur</td>\n",
       "      <td>Opp GPO Civil Lines, Nagpur - MPCB</td>\n",
       "      <td>03-10-2022 18:00:00</td>\n",
       "      <td>NH3</td>\n",
       "      <td>2</td>\n",
       "      <td>4</td>\n",
       "      <td>3</td>\n",
       "      <td>NA</td>\n",
       "    </tr>\n",
       "    <tr>\n",
       "      <th>4</th>\n",
       "      <td>1261</td>\n",
       "      <td>India</td>\n",
       "      <td>Maharashtra</td>\n",
       "      <td>Nagpur</td>\n",
       "      <td>Opp GPO Civil Lines, Nagpur - MPCB</td>\n",
       "      <td>03-10-2022 18:00:00</td>\n",
       "      <td>SO2</td>\n",
       "      <td>2</td>\n",
       "      <td>17</td>\n",
       "      <td>5</td>\n",
       "      <td>NA</td>\n",
       "    </tr>\n",
       "    <tr>\n",
       "      <th>5</th>\n",
       "      <td>1262</td>\n",
       "      <td>India</td>\n",
       "      <td>Maharashtra</td>\n",
       "      <td>Nagpur</td>\n",
       "      <td>Opp GPO Civil Lines, Nagpur - MPCB</td>\n",
       "      <td>03-10-2022 18:00:00</td>\n",
       "      <td>CO</td>\n",
       "      <td>23</td>\n",
       "      <td>56</td>\n",
       "      <td>32</td>\n",
       "      <td>NA</td>\n",
       "    </tr>\n",
       "    <tr>\n",
       "      <th>6</th>\n",
       "      <td>1263</td>\n",
       "      <td>India</td>\n",
       "      <td>Maharashtra</td>\n",
       "      <td>Nagpur</td>\n",
       "      <td>Opp GPO Civil Lines, Nagpur - MPCB</td>\n",
       "      <td>03-10-2022 18:00:00</td>\n",
       "      <td>OZONE</td>\n",
       "      <td>29</td>\n",
       "      <td>123</td>\n",
       "      <td>96</td>\n",
       "      <td>NA</td>\n",
       "    </tr>\n",
       "    <tr>\n",
       "      <th>0</th>\n",
       "      <td>1128</td>\n",
       "      <td>India</td>\n",
       "      <td>Maharashtra</td>\n",
       "      <td>Kalyan</td>\n",
       "      <td>Khadakpada, Kalyan - MPCB</td>\n",
       "      <td>03-10-2022 18:00:00</td>\n",
       "      <td>PM2.5</td>\n",
       "      <td>19</td>\n",
       "      <td>148</td>\n",
       "      <td>43</td>\n",
       "      <td>NA</td>\n",
       "    </tr>\n",
       "    <tr>\n",
       "      <th>1</th>\n",
       "      <td>1129</td>\n",
       "      <td>India</td>\n",
       "      <td>Maharashtra</td>\n",
       "      <td>Kalyan</td>\n",
       "      <td>Khadakpada, Kalyan - MPCB</td>\n",
       "      <td>03-10-2022 18:00:00</td>\n",
       "      <td>PM10</td>\n",
       "      <td>38</td>\n",
       "      <td>152</td>\n",
       "      <td>97</td>\n",
       "      <td>NA</td>\n",
       "    </tr>\n",
       "    <tr>\n",
       "      <th>2</th>\n",
       "      <td>1130</td>\n",
       "      <td>India</td>\n",
       "      <td>Maharashtra</td>\n",
       "      <td>Kalyan</td>\n",
       "      <td>Khadakpada, Kalyan - MPCB</td>\n",
       "      <td>03-10-2022 18:00:00</td>\n",
       "      <td>NO2</td>\n",
       "      <td>9</td>\n",
       "      <td>58</td>\n",
       "      <td>24</td>\n",
       "      <td>NA</td>\n",
       "    </tr>\n",
       "    <tr>\n",
       "      <th>3</th>\n",
       "      <td>1131</td>\n",
       "      <td>India</td>\n",
       "      <td>Maharashtra</td>\n",
       "      <td>Kalyan</td>\n",
       "      <td>Khadakpada, Kalyan - MPCB</td>\n",
       "      <td>03-10-2022 18:00:00</td>\n",
       "      <td>NH3</td>\n",
       "      <td>1</td>\n",
       "      <td>2</td>\n",
       "      <td>2</td>\n",
       "      <td>NA</td>\n",
       "    </tr>\n",
       "    <tr>\n",
       "      <th>4</th>\n",
       "      <td>1132</td>\n",
       "      <td>India</td>\n",
       "      <td>Maharashtra</td>\n",
       "      <td>Kalyan</td>\n",
       "      <td>Khadakpada, Kalyan - MPCB</td>\n",
       "      <td>03-10-2022 18:00:00</td>\n",
       "      <td>SO2</td>\n",
       "      <td>25</td>\n",
       "      <td>28</td>\n",
       "      <td>26</td>\n",
       "      <td>NA</td>\n",
       "    </tr>\n",
       "    <tr>\n",
       "      <th>5</th>\n",
       "      <td>1133</td>\n",
       "      <td>India</td>\n",
       "      <td>Maharashtra</td>\n",
       "      <td>Kalyan</td>\n",
       "      <td>Khadakpada, Kalyan - MPCB</td>\n",
       "      <td>03-10-2022 18:00:00</td>\n",
       "      <td>CO</td>\n",
       "      <td>36</td>\n",
       "      <td>95</td>\n",
       "      <td>43</td>\n",
       "      <td>NA</td>\n",
       "    </tr>\n",
       "    <tr>\n",
       "      <th>0</th>\n",
       "      <td>1264</td>\n",
       "      <td>India</td>\n",
       "      <td>Maharashtra</td>\n",
       "      <td>Nashik</td>\n",
       "      <td>Gangapur Road, Nashik - MPCB</td>\n",
       "      <td>03-10-2022 18:00:00</td>\n",
       "      <td>PM2.5</td>\n",
       "      <td>20</td>\n",
       "      <td>61</td>\n",
       "      <td>33</td>\n",
       "      <td>NA</td>\n",
       "    </tr>\n",
       "    <tr>\n",
       "      <th>1</th>\n",
       "      <td>1265</td>\n",
       "      <td>India</td>\n",
       "      <td>Maharashtra</td>\n",
       "      <td>Nashik</td>\n",
       "      <td>Gangapur Road, Nashik - MPCB</td>\n",
       "      <td>03-10-2022 18:00:00</td>\n",
       "      <td>PM10</td>\n",
       "      <td>17</td>\n",
       "      <td>49</td>\n",
       "      <td>31</td>\n",
       "      <td>NA</td>\n",
       "    </tr>\n",
       "    <tr>\n",
       "      <th>2</th>\n",
       "      <td>1266</td>\n",
       "      <td>India</td>\n",
       "      <td>Maharashtra</td>\n",
       "      <td>Nashik</td>\n",
       "      <td>Gangapur Road, Nashik - MPCB</td>\n",
       "      <td>03-10-2022 18:00:00</td>\n",
       "      <td>NO2</td>\n",
       "      <td>10</td>\n",
       "      <td>10</td>\n",
       "      <td>10</td>\n",
       "      <td>NA</td>\n",
       "    </tr>\n",
       "    <tr>\n",
       "      <th>3</th>\n",
       "      <td>1267</td>\n",
       "      <td>India</td>\n",
       "      <td>Maharashtra</td>\n",
       "      <td>Nashik</td>\n",
       "      <td>Gangapur Road, Nashik - MPCB</td>\n",
       "      <td>03-10-2022 18:00:00</td>\n",
       "      <td>NH3</td>\n",
       "      <td>1</td>\n",
       "      <td>1</td>\n",
       "      <td>1</td>\n",
       "      <td>NA</td>\n",
       "    </tr>\n",
       "    <tr>\n",
       "      <th>4</th>\n",
       "      <td>1268</td>\n",
       "      <td>India</td>\n",
       "      <td>Maharashtra</td>\n",
       "      <td>Nashik</td>\n",
       "      <td>Gangapur Road, Nashik - MPCB</td>\n",
       "      <td>03-10-2022 18:00:00</td>\n",
       "      <td>SO2</td>\n",
       "      <td>2</td>\n",
       "      <td>23</td>\n",
       "      <td>10</td>\n",
       "      <td>NA</td>\n",
       "    </tr>\n",
       "    <tr>\n",
       "      <th>5</th>\n",
       "      <td>1269</td>\n",
       "      <td>India</td>\n",
       "      <td>Maharashtra</td>\n",
       "      <td>Nashik</td>\n",
       "      <td>Gangapur Road, Nashik - MPCB</td>\n",
       "      <td>03-10-2022 18:00:00</td>\n",
       "      <td>CO</td>\n",
       "      <td>2</td>\n",
       "      <td>38</td>\n",
       "      <td>20</td>\n",
       "      <td>NA</td>\n",
       "    </tr>\n",
       "    <tr>\n",
       "      <th>6</th>\n",
       "      <td>1270</td>\n",
       "      <td>India</td>\n",
       "      <td>Maharashtra</td>\n",
       "      <td>Nashik</td>\n",
       "      <td>Gangapur Road, Nashik - MPCB</td>\n",
       "      <td>03-10-2022 18:00:00</td>\n",
       "      <td>OZONE</td>\n",
       "      <td>44</td>\n",
       "      <td>45</td>\n",
       "      <td>45</td>\n",
       "      <td>NA</td>\n",
       "    </tr>\n",
       "    <tr>\n",
       "      <th>0</th>\n",
       "      <td>1290</td>\n",
       "      <td>India</td>\n",
       "      <td>Maharashtra</td>\n",
       "      <td>Solapur</td>\n",
       "      <td>Solapur, Solapur - MPCB</td>\n",
       "      <td>03-10-2022 18:00:00</td>\n",
       "      <td>PM2.5</td>\n",
       "      <td>50</td>\n",
       "      <td>79</td>\n",
       "      <td>62</td>\n",
       "      <td>NA</td>\n",
       "    </tr>\n",
       "    <tr>\n",
       "      <th>1</th>\n",
       "      <td>1291</td>\n",
       "      <td>India</td>\n",
       "      <td>Maharashtra</td>\n",
       "      <td>Solapur</td>\n",
       "      <td>Solapur, Solapur - MPCB</td>\n",
       "      <td>03-10-2022 18:00:00</td>\n",
       "      <td>PM10</td>\n",
       "      <td>71</td>\n",
       "      <td>93</td>\n",
       "      <td>88</td>\n",
       "      <td>NA</td>\n",
       "    </tr>\n",
       "    <tr>\n",
       "      <th>2</th>\n",
       "      <td>1292</td>\n",
       "      <td>India</td>\n",
       "      <td>Maharashtra</td>\n",
       "      <td>Solapur</td>\n",
       "      <td>Solapur, Solapur - MPCB</td>\n",
       "      <td>03-10-2022 18:00:00</td>\n",
       "      <td>NO2</td>\n",
       "      <td>1</td>\n",
       "      <td>92</td>\n",
       "      <td>27</td>\n",
       "      <td>NA</td>\n",
       "    </tr>\n",
       "    <tr>\n",
       "      <th>3</th>\n",
       "      <td>1293</td>\n",
       "      <td>India</td>\n",
       "      <td>Maharashtra</td>\n",
       "      <td>Solapur</td>\n",
       "      <td>Solapur, Solapur - MPCB</td>\n",
       "      <td>03-10-2022 18:00:00</td>\n",
       "      <td>SO2</td>\n",
       "      <td>17</td>\n",
       "      <td>32</td>\n",
       "      <td>29</td>\n",
       "      <td>NA</td>\n",
       "    </tr>\n",
       "    <tr>\n",
       "      <th>4</th>\n",
       "      <td>1294</td>\n",
       "      <td>India</td>\n",
       "      <td>Maharashtra</td>\n",
       "      <td>Solapur</td>\n",
       "      <td>Solapur, Solapur - MPCB</td>\n",
       "      <td>03-10-2022 18:00:00</td>\n",
       "      <td>CO</td>\n",
       "      <td>42</td>\n",
       "      <td>52</td>\n",
       "      <td>47</td>\n",
       "      <td>NA</td>\n",
       "    </tr>\n",
       "    <tr>\n",
       "      <th>5</th>\n",
       "      <td>1295</td>\n",
       "      <td>India</td>\n",
       "      <td>Maharashtra</td>\n",
       "      <td>Solapur</td>\n",
       "      <td>Solapur, Solapur - MPCB</td>\n",
       "      <td>03-10-2022 18:00:00</td>\n",
       "      <td>OZONE</td>\n",
       "      <td>24</td>\n",
       "      <td>46</td>\n",
       "      <td>32</td>\n",
       "      <td>NA</td>\n",
       "    </tr>\n",
       "    <tr>\n",
       "      <th>0</th>\n",
       "      <td>1114</td>\n",
       "      <td>India</td>\n",
       "      <td>Maharashtra</td>\n",
       "      <td>Aurangabad</td>\n",
       "      <td>More Chowk Waluj, Aurangabad - MPCB</td>\n",
       "      <td>03-10-2022 18:00:00</td>\n",
       "      <td>PM2.5</td>\n",
       "      <td>34</td>\n",
       "      <td>93</td>\n",
       "      <td>58</td>\n",
       "      <td>NA</td>\n",
       "    </tr>\n",
       "    <tr>\n",
       "      <th>1</th>\n",
       "      <td>1115</td>\n",
       "      <td>India</td>\n",
       "      <td>Maharashtra</td>\n",
       "      <td>Aurangabad</td>\n",
       "      <td>More Chowk Waluj, Aurangabad - MPCB</td>\n",
       "      <td>03-10-2022 18:00:00</td>\n",
       "      <td>PM10</td>\n",
       "      <td>75</td>\n",
       "      <td>113</td>\n",
       "      <td>90</td>\n",
       "      <td>NA</td>\n",
       "    </tr>\n",
       "    <tr>\n",
       "      <th>2</th>\n",
       "      <td>1116</td>\n",
       "      <td>India</td>\n",
       "      <td>Maharashtra</td>\n",
       "      <td>Aurangabad</td>\n",
       "      <td>More Chowk Waluj, Aurangabad - MPCB</td>\n",
       "      <td>03-10-2022 18:00:00</td>\n",
       "      <td>NO2</td>\n",
       "      <td>14</td>\n",
       "      <td>15</td>\n",
       "      <td>15</td>\n",
       "      <td>NA</td>\n",
       "    </tr>\n",
       "    <tr>\n",
       "      <th>3</th>\n",
       "      <td>1117</td>\n",
       "      <td>India</td>\n",
       "      <td>Maharashtra</td>\n",
       "      <td>Aurangabad</td>\n",
       "      <td>More Chowk Waluj, Aurangabad - MPCB</td>\n",
       "      <td>03-10-2022 18:00:00</td>\n",
       "      <td>NH3</td>\n",
       "      <td>1</td>\n",
       "      <td>1</td>\n",
       "      <td>1</td>\n",
       "      <td>NA</td>\n",
       "    </tr>\n",
       "    <tr>\n",
       "      <th>4</th>\n",
       "      <td>1118</td>\n",
       "      <td>India</td>\n",
       "      <td>Maharashtra</td>\n",
       "      <td>Aurangabad</td>\n",
       "      <td>More Chowk Waluj, Aurangabad - MPCB</td>\n",
       "      <td>03-10-2022 18:00:00</td>\n",
       "      <td>SO2</td>\n",
       "      <td>7</td>\n",
       "      <td>17</td>\n",
       "      <td>11</td>\n",
       "      <td>NA</td>\n",
       "    </tr>\n",
       "    <tr>\n",
       "      <th>5</th>\n",
       "      <td>1119</td>\n",
       "      <td>India</td>\n",
       "      <td>Maharashtra</td>\n",
       "      <td>Aurangabad</td>\n",
       "      <td>More Chowk Waluj, Aurangabad - MPCB</td>\n",
       "      <td>03-10-2022 18:00:00</td>\n",
       "      <td>CO</td>\n",
       "      <td>12</td>\n",
       "      <td>61</td>\n",
       "      <td>24</td>\n",
       "      <td>NA</td>\n",
       "    </tr>\n",
       "    <tr>\n",
       "      <th>6</th>\n",
       "      <td>1120</td>\n",
       "      <td>India</td>\n",
       "      <td>Maharashtra</td>\n",
       "      <td>Aurangabad</td>\n",
       "      <td>More Chowk Waluj, Aurangabad - MPCB</td>\n",
       "      <td>03-10-2022 18:00:00</td>\n",
       "      <td>OZONE</td>\n",
       "      <td>3</td>\n",
       "      <td>21</td>\n",
       "      <td>18</td>\n",
       "      <td>NA</td>\n",
       "    </tr>\n",
       "  </tbody>\n",
       "</table>\n",
       "</div>"
      ],
      "text/plain": [
       "     id country        state        city                              station  \\\n",
       "0  1257   India  Maharashtra      Nagpur   Opp GPO Civil Lines, Nagpur - MPCB   \n",
       "1  1258   India  Maharashtra      Nagpur   Opp GPO Civil Lines, Nagpur - MPCB   \n",
       "2  1259   India  Maharashtra      Nagpur   Opp GPO Civil Lines, Nagpur - MPCB   \n",
       "3  1260   India  Maharashtra      Nagpur   Opp GPO Civil Lines, Nagpur - MPCB   \n",
       "4  1261   India  Maharashtra      Nagpur   Opp GPO Civil Lines, Nagpur - MPCB   \n",
       "5  1262   India  Maharashtra      Nagpur   Opp GPO Civil Lines, Nagpur - MPCB   \n",
       "6  1263   India  Maharashtra      Nagpur   Opp GPO Civil Lines, Nagpur - MPCB   \n",
       "0  1128   India  Maharashtra      Kalyan            Khadakpada, Kalyan - MPCB   \n",
       "1  1129   India  Maharashtra      Kalyan            Khadakpada, Kalyan - MPCB   \n",
       "2  1130   India  Maharashtra      Kalyan            Khadakpada, Kalyan - MPCB   \n",
       "3  1131   India  Maharashtra      Kalyan            Khadakpada, Kalyan - MPCB   \n",
       "4  1132   India  Maharashtra      Kalyan            Khadakpada, Kalyan - MPCB   \n",
       "5  1133   India  Maharashtra      Kalyan            Khadakpada, Kalyan - MPCB   \n",
       "0  1264   India  Maharashtra      Nashik         Gangapur Road, Nashik - MPCB   \n",
       "1  1265   India  Maharashtra      Nashik         Gangapur Road, Nashik - MPCB   \n",
       "2  1266   India  Maharashtra      Nashik         Gangapur Road, Nashik - MPCB   \n",
       "3  1267   India  Maharashtra      Nashik         Gangapur Road, Nashik - MPCB   \n",
       "4  1268   India  Maharashtra      Nashik         Gangapur Road, Nashik - MPCB   \n",
       "5  1269   India  Maharashtra      Nashik         Gangapur Road, Nashik - MPCB   \n",
       "6  1270   India  Maharashtra      Nashik         Gangapur Road, Nashik - MPCB   \n",
       "0  1290   India  Maharashtra     Solapur              Solapur, Solapur - MPCB   \n",
       "1  1291   India  Maharashtra     Solapur              Solapur, Solapur - MPCB   \n",
       "2  1292   India  Maharashtra     Solapur              Solapur, Solapur - MPCB   \n",
       "3  1293   India  Maharashtra     Solapur              Solapur, Solapur - MPCB   \n",
       "4  1294   India  Maharashtra     Solapur              Solapur, Solapur - MPCB   \n",
       "5  1295   India  Maharashtra     Solapur              Solapur, Solapur - MPCB   \n",
       "0  1114   India  Maharashtra  Aurangabad  More Chowk Waluj, Aurangabad - MPCB   \n",
       "1  1115   India  Maharashtra  Aurangabad  More Chowk Waluj, Aurangabad - MPCB   \n",
       "2  1116   India  Maharashtra  Aurangabad  More Chowk Waluj, Aurangabad - MPCB   \n",
       "3  1117   India  Maharashtra  Aurangabad  More Chowk Waluj, Aurangabad - MPCB   \n",
       "4  1118   India  Maharashtra  Aurangabad  More Chowk Waluj, Aurangabad - MPCB   \n",
       "5  1119   India  Maharashtra  Aurangabad  More Chowk Waluj, Aurangabad - MPCB   \n",
       "6  1120   India  Maharashtra  Aurangabad  More Chowk Waluj, Aurangabad - MPCB   \n",
       "\n",
       "           last_update pollutant_id pollutant_min pollutant_max pollutant_avg  \\\n",
       "0  03-10-2022 18:00:00        PM2.5            29            57            41   \n",
       "1  03-10-2022 18:00:00         PM10            34            75            49   \n",
       "2  03-10-2022 18:00:00          NO2             6            70            18   \n",
       "3  03-10-2022 18:00:00          NH3             2             4             3   \n",
       "4  03-10-2022 18:00:00          SO2             2            17             5   \n",
       "5  03-10-2022 18:00:00           CO            23            56            32   \n",
       "6  03-10-2022 18:00:00        OZONE            29           123            96   \n",
       "0  03-10-2022 18:00:00        PM2.5            19           148            43   \n",
       "1  03-10-2022 18:00:00         PM10            38           152            97   \n",
       "2  03-10-2022 18:00:00          NO2             9            58            24   \n",
       "3  03-10-2022 18:00:00          NH3             1             2             2   \n",
       "4  03-10-2022 18:00:00          SO2            25            28            26   \n",
       "5  03-10-2022 18:00:00           CO            36            95            43   \n",
       "0  03-10-2022 18:00:00        PM2.5            20            61            33   \n",
       "1  03-10-2022 18:00:00         PM10            17            49            31   \n",
       "2  03-10-2022 18:00:00          NO2            10            10            10   \n",
       "3  03-10-2022 18:00:00          NH3             1             1             1   \n",
       "4  03-10-2022 18:00:00          SO2             2            23            10   \n",
       "5  03-10-2022 18:00:00           CO             2            38            20   \n",
       "6  03-10-2022 18:00:00        OZONE            44            45            45   \n",
       "0  03-10-2022 18:00:00        PM2.5            50            79            62   \n",
       "1  03-10-2022 18:00:00         PM10            71            93            88   \n",
       "2  03-10-2022 18:00:00          NO2             1            92            27   \n",
       "3  03-10-2022 18:00:00          SO2            17            32            29   \n",
       "4  03-10-2022 18:00:00           CO            42            52            47   \n",
       "5  03-10-2022 18:00:00        OZONE            24            46            32   \n",
       "0  03-10-2022 18:00:00        PM2.5            34            93            58   \n",
       "1  03-10-2022 18:00:00         PM10            75           113            90   \n",
       "2  03-10-2022 18:00:00          NO2            14            15            15   \n",
       "3  03-10-2022 18:00:00          NH3             1             1             1   \n",
       "4  03-10-2022 18:00:00          SO2             7            17            11   \n",
       "5  03-10-2022 18:00:00           CO            12            61            24   \n",
       "6  03-10-2022 18:00:00        OZONE             3            21            18   \n",
       "\n",
       "  pollutant_unit  \n",
       "0             NA  \n",
       "1             NA  \n",
       "2             NA  \n",
       "3             NA  \n",
       "4             NA  \n",
       "5             NA  \n",
       "6             NA  \n",
       "0             NA  \n",
       "1             NA  \n",
       "2             NA  \n",
       "3             NA  \n",
       "4             NA  \n",
       "5             NA  \n",
       "0             NA  \n",
       "1             NA  \n",
       "2             NA  \n",
       "3             NA  \n",
       "4             NA  \n",
       "5             NA  \n",
       "6             NA  \n",
       "0             NA  \n",
       "1             NA  \n",
       "2             NA  \n",
       "3             NA  \n",
       "4             NA  \n",
       "5             NA  \n",
       "0             NA  \n",
       "1             NA  \n",
       "2             NA  \n",
       "3             NA  \n",
       "4             NA  \n",
       "5             NA  \n",
       "6             NA  "
      ]
     },
     "execution_count": 82,
     "metadata": {},
     "output_type": "execute_result"
    }
   ],
   "source": [
    "api = \"579b464db66ec23bdd000001ba8edae2ab6c4142632f23f04e4e0c24 \"\n",
    "criteria =  { 'state':['Maharashtra'], 'city':['Nagpur', 'Kalyan', 'Nashik', 'Solapur', 'Aurangabad']} \n",
    "mydata = getData(api, criteria)\n",
    "mydata\n",
    "#   { 'state':['Maharashtra'], 'city':['Nagpur', 'Kalyan', 'Thane', 'Nashik', 'Solapur', 'Aurangabad']}    Aurangabad  Solapur Nashik  Thane Kalyan\n",
    "#  { 'state':['Maharashtra'], 'station':['Chandrapur, Chandrapur - MPCB'],  'city':['Chandrapur']}\n",
    "#  { 'state':['Maharashtra'], 'station': ['Borivali East, Mumbai - MPCB'],  'city':['Mumbai']}\n",
    "#  { 'state':['Maharashtra'], 'station': ['Mahape, Navi Mumbai - MPCB'],  'city':['Navi Mumbai']}\n",
    "#  { 'state':['Gujarat'],  'city':['Gandhinagar']}\n",
    "#  { 'state':['Gujarat'], 'station':['Chandkheda, Ahmedabad - IITM'], 'city':['Ahmedabad']}\n",
    "#  { 'state':['Madhya Pradesh'],  'city':[\"Dewas\", 'Gwalior', 'Indore', 'Jabalpur', 'Ujjain']}\n",
    "#  { 'state':['Delhi'], 'station':['Alipur, Delhi - DPCC'],'city':['Delhi']}\n",
    "#  { 'state':['Delhi'], 'station':['Anand Vihar, Delhi - DPCC'],'city':['Delhi']}\n",
    "\n",
    "#{ 'state':['Delhi'],'city':['Delhi'], 'pollutant_id': [\"PM10\", \"PM2.5\"]}"
   ]
  },
  {
   "cell_type": "code",
   "execution_count": 83,
   "id": "52569e4c",
   "metadata": {},
   "outputs": [
    {
     "data": {
      "text/html": [
       "<div>\n",
       "<style scoped>\n",
       "    .dataframe tbody tr th:only-of-type {\n",
       "        vertical-align: middle;\n",
       "    }\n",
       "\n",
       "    .dataframe tbody tr th {\n",
       "        vertical-align: top;\n",
       "    }\n",
       "\n",
       "    .dataframe thead th {\n",
       "        text-align: right;\n",
       "    }\n",
       "</style>\n",
       "<table border=\"1\" class=\"dataframe\">\n",
       "  <thead>\n",
       "    <tr style=\"text-align: right;\">\n",
       "      <th></th>\n",
       "      <th>id</th>\n",
       "      <th>country</th>\n",
       "      <th>state</th>\n",
       "      <th>city</th>\n",
       "      <th>station</th>\n",
       "      <th>last_update</th>\n",
       "      <th>pollutant_id</th>\n",
       "      <th>pollutant_min</th>\n",
       "      <th>pollutant_max</th>\n",
       "      <th>pollutant_avg</th>\n",
       "      <th>pollutant_unit</th>\n",
       "    </tr>\n",
       "  </thead>\n",
       "  <tbody>\n",
       "    <tr>\n",
       "      <th>0</th>\n",
       "      <td>1257</td>\n",
       "      <td>India</td>\n",
       "      <td>Maharashtra</td>\n",
       "      <td>Nagpur</td>\n",
       "      <td>Opp GPO Civil Lines, Nagpur - MPCB</td>\n",
       "      <td>03-10-2022 18:00:00</td>\n",
       "      <td>PM2.5</td>\n",
       "      <td>29</td>\n",
       "      <td>57</td>\n",
       "      <td>41</td>\n",
       "      <td>NA</td>\n",
       "    </tr>\n",
       "    <tr>\n",
       "      <th>1</th>\n",
       "      <td>1258</td>\n",
       "      <td>India</td>\n",
       "      <td>Maharashtra</td>\n",
       "      <td>Nagpur</td>\n",
       "      <td>Opp GPO Civil Lines, Nagpur - MPCB</td>\n",
       "      <td>03-10-2022 18:00:00</td>\n",
       "      <td>PM10</td>\n",
       "      <td>34</td>\n",
       "      <td>75</td>\n",
       "      <td>49</td>\n",
       "      <td>NA</td>\n",
       "    </tr>\n",
       "    <tr>\n",
       "      <th>2</th>\n",
       "      <td>1259</td>\n",
       "      <td>India</td>\n",
       "      <td>Maharashtra</td>\n",
       "      <td>Nagpur</td>\n",
       "      <td>Opp GPO Civil Lines, Nagpur - MPCB</td>\n",
       "      <td>03-10-2022 18:00:00</td>\n",
       "      <td>NO2</td>\n",
       "      <td>6</td>\n",
       "      <td>70</td>\n",
       "      <td>18</td>\n",
       "      <td>NA</td>\n",
       "    </tr>\n",
       "    <tr>\n",
       "      <th>3</th>\n",
       "      <td>1260</td>\n",
       "      <td>India</td>\n",
       "      <td>Maharashtra</td>\n",
       "      <td>Nagpur</td>\n",
       "      <td>Opp GPO Civil Lines, Nagpur - MPCB</td>\n",
       "      <td>03-10-2022 18:00:00</td>\n",
       "      <td>NH3</td>\n",
       "      <td>2</td>\n",
       "      <td>4</td>\n",
       "      <td>3</td>\n",
       "      <td>NA</td>\n",
       "    </tr>\n",
       "    <tr>\n",
       "      <th>4</th>\n",
       "      <td>1261</td>\n",
       "      <td>India</td>\n",
       "      <td>Maharashtra</td>\n",
       "      <td>Nagpur</td>\n",
       "      <td>Opp GPO Civil Lines, Nagpur - MPCB</td>\n",
       "      <td>03-10-2022 18:00:00</td>\n",
       "      <td>SO2</td>\n",
       "      <td>2</td>\n",
       "      <td>17</td>\n",
       "      <td>5</td>\n",
       "      <td>NA</td>\n",
       "    </tr>\n",
       "  </tbody>\n",
       "</table>\n",
       "</div>"
      ],
      "text/plain": [
       "     id country        state    city                             station  \\\n",
       "0  1257   India  Maharashtra  Nagpur  Opp GPO Civil Lines, Nagpur - MPCB   \n",
       "1  1258   India  Maharashtra  Nagpur  Opp GPO Civil Lines, Nagpur - MPCB   \n",
       "2  1259   India  Maharashtra  Nagpur  Opp GPO Civil Lines, Nagpur - MPCB   \n",
       "3  1260   India  Maharashtra  Nagpur  Opp GPO Civil Lines, Nagpur - MPCB   \n",
       "4  1261   India  Maharashtra  Nagpur  Opp GPO Civil Lines, Nagpur - MPCB   \n",
       "\n",
       "           last_update pollutant_id pollutant_min pollutant_max pollutant_avg  \\\n",
       "0  03-10-2022 18:00:00        PM2.5            29            57            41   \n",
       "1  03-10-2022 18:00:00         PM10            34            75            49   \n",
       "2  03-10-2022 18:00:00          NO2             6            70            18   \n",
       "3  03-10-2022 18:00:00          NH3             2             4             3   \n",
       "4  03-10-2022 18:00:00          SO2             2            17             5   \n",
       "\n",
       "  pollutant_unit  \n",
       "0             NA  \n",
       "1             NA  \n",
       "2             NA  \n",
       "3             NA  \n",
       "4             NA  "
      ]
     },
     "execution_count": 83,
     "metadata": {},
     "output_type": "execute_result"
    }
   ],
   "source": [
    "# we create a my_df datframe where we save raw data which is fetch from API\n",
    "\n",
    "my_df = pd.DataFrame(data = mydata)\n",
    "my_df.head()"
   ]
  },
  {
   "cell_type": "code",
   "execution_count": 79,
   "id": "ebb42f21",
   "metadata": {},
   "outputs": [
    {
     "data": {
      "text/html": [
       "<div>\n",
       "<style scoped>\n",
       "    .dataframe tbody tr th:only-of-type {\n",
       "        vertical-align: middle;\n",
       "    }\n",
       "\n",
       "    .dataframe tbody tr th {\n",
       "        vertical-align: top;\n",
       "    }\n",
       "\n",
       "    .dataframe thead th {\n",
       "        text-align: right;\n",
       "    }\n",
       "</style>\n",
       "<table border=\"1\" class=\"dataframe\">\n",
       "  <thead>\n",
       "    <tr style=\"text-align: right;\">\n",
       "      <th></th>\n",
       "    </tr>\n",
       "  </thead>\n",
       "  <tbody>\n",
       "  </tbody>\n",
       "</table>\n",
       "</div>"
      ],
      "text/plain": [
       "Empty DataFrame\n",
       "Columns: []\n",
       "Index: []"
      ]
     },
     "execution_count": 79,
     "metadata": {},
     "output_type": "execute_result"
    }
   ],
   "source": [
    "'''\n",
    "# we cretae an empty dataframe my_df2\n",
    "\n",
    "my_df2 = pd.DataFrame() #run only first time or it will  refresh\n",
    "my_df2\n",
    "'''"
   ]
  },
  {
   "cell_type": "code",
   "execution_count": 84,
   "id": "cb413517",
   "metadata": {},
   "outputs": [
    {
     "name": "stderr",
     "output_type": "stream",
     "text": [
      "C:\\Users\\ASUS\\anaconda3\\lib\\site-packages\\pandas\\core\\apply.py:507: FutureWarning: Dropping invalid columns in DataFrameGroupBy.mean is deprecated. In a future version, a TypeError will be raised. Before calling .mean, select only columns which should be valid for the function.\n",
      "  return self._try_aggregate_string_function(obj, f, *self.args, **self.kwargs)\n"
     ]
    },
    {
     "data": {
      "text/html": [
       "<div>\n",
       "<style scoped>\n",
       "    .dataframe tbody tr th:only-of-type {\n",
       "        vertical-align: middle;\n",
       "    }\n",
       "\n",
       "    .dataframe tbody tr th {\n",
       "        vertical-align: top;\n",
       "    }\n",
       "\n",
       "    .dataframe thead tr th {\n",
       "        text-align: left;\n",
       "    }\n",
       "\n",
       "    .dataframe thead tr:last-of-type th {\n",
       "        text-align: right;\n",
       "    }\n",
       "</style>\n",
       "<table border=\"1\" class=\"dataframe\">\n",
       "  <thead>\n",
       "    <tr>\n",
       "      <th></th>\n",
       "      <th colspan=\"7\" halign=\"left\">pollutant_avg</th>\n",
       "    </tr>\n",
       "    <tr>\n",
       "      <th>pollutant_id</th>\n",
       "      <th>CO</th>\n",
       "      <th>NH3</th>\n",
       "      <th>NO2</th>\n",
       "      <th>OZONE</th>\n",
       "      <th>PM10</th>\n",
       "      <th>PM2.5</th>\n",
       "      <th>SO2</th>\n",
       "    </tr>\n",
       "    <tr>\n",
       "      <th>city</th>\n",
       "      <th></th>\n",
       "      <th></th>\n",
       "      <th></th>\n",
       "      <th></th>\n",
       "      <th></th>\n",
       "      <th></th>\n",
       "      <th></th>\n",
       "    </tr>\n",
       "  </thead>\n",
       "  <tbody>\n",
       "    <tr>\n",
       "      <th>Aurangabad</th>\n",
       "      <td>24.0</td>\n",
       "      <td>1.0</td>\n",
       "      <td>15.0</td>\n",
       "      <td>18.0</td>\n",
       "      <td>90.0</td>\n",
       "      <td>58.0</td>\n",
       "      <td>11.0</td>\n",
       "    </tr>\n",
       "    <tr>\n",
       "      <th>Kalyan</th>\n",
       "      <td>43.0</td>\n",
       "      <td>2.0</td>\n",
       "      <td>24.0</td>\n",
       "      <td>NaN</td>\n",
       "      <td>97.0</td>\n",
       "      <td>43.0</td>\n",
       "      <td>26.0</td>\n",
       "    </tr>\n",
       "    <tr>\n",
       "      <th>Nagpur</th>\n",
       "      <td>32.0</td>\n",
       "      <td>3.0</td>\n",
       "      <td>18.0</td>\n",
       "      <td>96.0</td>\n",
       "      <td>49.0</td>\n",
       "      <td>41.0</td>\n",
       "      <td>5.0</td>\n",
       "    </tr>\n",
       "    <tr>\n",
       "      <th>Nashik</th>\n",
       "      <td>20.0</td>\n",
       "      <td>1.0</td>\n",
       "      <td>10.0</td>\n",
       "      <td>45.0</td>\n",
       "      <td>31.0</td>\n",
       "      <td>33.0</td>\n",
       "      <td>10.0</td>\n",
       "    </tr>\n",
       "    <tr>\n",
       "      <th>Solapur</th>\n",
       "      <td>47.0</td>\n",
       "      <td>NaN</td>\n",
       "      <td>27.0</td>\n",
       "      <td>32.0</td>\n",
       "      <td>88.0</td>\n",
       "      <td>62.0</td>\n",
       "      <td>29.0</td>\n",
       "    </tr>\n",
       "  </tbody>\n",
       "</table>\n",
       "</div>"
      ],
      "text/plain": [
       "             pollutant_avg                                   \n",
       "pollutant_id            CO  NH3   NO2 OZONE  PM10 PM2.5   SO2\n",
       "city                                                         \n",
       "Aurangabad            24.0  1.0  15.0  18.0  90.0  58.0  11.0\n",
       "Kalyan                43.0  2.0  24.0   NaN  97.0  43.0  26.0\n",
       "Nagpur                32.0  3.0  18.0  96.0  49.0  41.0   5.0\n",
       "Nashik                20.0  1.0  10.0  45.0  31.0  33.0  10.0\n",
       "Solapur               47.0  NaN  27.0  32.0  88.0  62.0  29.0"
      ]
     },
     "execution_count": 84,
     "metadata": {},
     "output_type": "execute_result"
    }
   ],
   "source": [
    "#we drop column that we dont require \n",
    "# we pivot a table to match dataframe with historical data\n",
    "\n",
    "my_df = my_df.drop(['id','country', 'state', 'station', 'pollutant_min', 'pollutant_max', 'pollutant_unit'], axis =1)\n",
    "my_df = my_df.pivot_table(index ='city', columns='pollutant_id',  ) \n",
    "my_df"
   ]
  },
  {
   "cell_type": "code",
   "execution_count": 85,
   "id": "ce7eefae",
   "metadata": {},
   "outputs": [
    {
     "data": {
      "text/html": [
       "<div>\n",
       "<style scoped>\n",
       "    .dataframe tbody tr th:only-of-type {\n",
       "        vertical-align: middle;\n",
       "    }\n",
       "\n",
       "    .dataframe tbody tr th {\n",
       "        vertical-align: top;\n",
       "    }\n",
       "\n",
       "    .dataframe thead tr th {\n",
       "        text-align: left;\n",
       "    }\n",
       "\n",
       "    .dataframe thead tr:last-of-type th {\n",
       "        text-align: right;\n",
       "    }\n",
       "</style>\n",
       "<table border=\"1\" class=\"dataframe\">\n",
       "  <thead>\n",
       "    <tr>\n",
       "      <th></th>\n",
       "      <th colspan=\"7\" halign=\"left\">pollutant_avg</th>\n",
       "    </tr>\n",
       "    <tr>\n",
       "      <th>pollutant_id</th>\n",
       "      <th>CO</th>\n",
       "      <th>NH3</th>\n",
       "      <th>NO2</th>\n",
       "      <th>OZONE</th>\n",
       "      <th>PM10</th>\n",
       "      <th>PM2.5</th>\n",
       "      <th>SO2</th>\n",
       "    </tr>\n",
       "    <tr>\n",
       "      <th>city</th>\n",
       "      <th></th>\n",
       "      <th></th>\n",
       "      <th></th>\n",
       "      <th></th>\n",
       "      <th></th>\n",
       "      <th></th>\n",
       "      <th></th>\n",
       "    </tr>\n",
       "  </thead>\n",
       "  <tbody>\n",
       "    <tr>\n",
       "      <th>Aurangabad</th>\n",
       "      <td>24.0</td>\n",
       "      <td>1.0</td>\n",
       "      <td>15.0</td>\n",
       "      <td>18.0</td>\n",
       "      <td>90.0</td>\n",
       "      <td>58.0</td>\n",
       "      <td>11.0</td>\n",
       "    </tr>\n",
       "    <tr>\n",
       "      <th>Kalyan</th>\n",
       "      <td>43.0</td>\n",
       "      <td>2.0</td>\n",
       "      <td>24.0</td>\n",
       "      <td>NaN</td>\n",
       "      <td>97.0</td>\n",
       "      <td>43.0</td>\n",
       "      <td>26.0</td>\n",
       "    </tr>\n",
       "    <tr>\n",
       "      <th>Nagpur</th>\n",
       "      <td>32.0</td>\n",
       "      <td>3.0</td>\n",
       "      <td>18.0</td>\n",
       "      <td>96.0</td>\n",
       "      <td>49.0</td>\n",
       "      <td>41.0</td>\n",
       "      <td>5.0</td>\n",
       "    </tr>\n",
       "    <tr>\n",
       "      <th>Nashik</th>\n",
       "      <td>20.0</td>\n",
       "      <td>1.0</td>\n",
       "      <td>10.0</td>\n",
       "      <td>45.0</td>\n",
       "      <td>31.0</td>\n",
       "      <td>33.0</td>\n",
       "      <td>10.0</td>\n",
       "    </tr>\n",
       "    <tr>\n",
       "      <th>Solapur</th>\n",
       "      <td>47.0</td>\n",
       "      <td>NaN</td>\n",
       "      <td>27.0</td>\n",
       "      <td>32.0</td>\n",
       "      <td>88.0</td>\n",
       "      <td>62.0</td>\n",
       "      <td>29.0</td>\n",
       "    </tr>\n",
       "  </tbody>\n",
       "</table>\n",
       "</div>"
      ],
      "text/plain": [
       "             pollutant_avg                                   \n",
       "pollutant_id            CO  NH3   NO2 OZONE  PM10 PM2.5   SO2\n",
       "city                                                         \n",
       "Aurangabad            24.0  1.0  15.0  18.0  90.0  58.0  11.0\n",
       "Kalyan                43.0  2.0  24.0   NaN  97.0  43.0  26.0\n",
       "Nagpur                32.0  3.0  18.0  96.0  49.0  41.0   5.0\n",
       "Nashik                20.0  1.0  10.0  45.0  31.0  33.0  10.0\n",
       "Solapur               47.0  NaN  27.0  32.0  88.0  62.0  29.0"
      ]
     },
     "execution_count": 85,
     "metadata": {},
     "output_type": "execute_result"
    }
   ],
   "source": [
    "# We append a my_df in my_df2\n",
    "\n",
    "my_df2 = my_df2.append(my_df)\n",
    "my_df2"
   ]
  },
  {
   "cell_type": "code",
   "execution_count": 86,
   "id": "c9cf4bfc",
   "metadata": {},
   "outputs": [],
   "source": [
    "# We store my_df2 in CSV format\n",
    "\n",
    "my_df2.to_csv(\"C://Users//ASUS//DBDA Python//AQI//03_10_2022.csv\")"
   ]
  },
  {
   "cell_type": "code",
   "execution_count": 87,
   "id": "d603ca5c",
   "metadata": {},
   "outputs": [
    {
     "data": {
      "text/plain": [
       "(5, 7)"
      ]
     },
     "execution_count": 87,
     "metadata": {},
     "output_type": "execute_result"
    }
   ],
   "source": [
    "my_df2.shape"
   ]
  },
  {
   "cell_type": "markdown",
   "id": "dcb74636",
   "metadata": {},
   "source": [
    "# Real Time Processing and Model"
   ]
  },
  {
   "cell_type": "code",
   "execution_count": 52,
   "id": "640b97d7",
   "metadata": {},
   "outputs": [
    {
     "data": {
      "text/html": [
       "<div>\n",
       "<style scoped>\n",
       "    .dataframe tbody tr th:only-of-type {\n",
       "        vertical-align: middle;\n",
       "    }\n",
       "\n",
       "    .dataframe tbody tr th {\n",
       "        vertical-align: top;\n",
       "    }\n",
       "\n",
       "    .dataframe thead th {\n",
       "        text-align: right;\n",
       "    }\n",
       "</style>\n",
       "<table border=\"1\" class=\"dataframe\">\n",
       "  <thead>\n",
       "    <tr style=\"text-align: right;\">\n",
       "      <th></th>\n",
       "      <th>city</th>\n",
       "      <th>CO</th>\n",
       "      <th>NH3</th>\n",
       "      <th>NO2</th>\n",
       "      <th>OZONE</th>\n",
       "      <th>PM10</th>\n",
       "      <th>PM2.5</th>\n",
       "      <th>SO2</th>\n",
       "    </tr>\n",
       "  </thead>\n",
       "  <tbody>\n",
       "    <tr>\n",
       "      <th>0</th>\n",
       "      <td>Nagpur</td>\n",
       "      <td>36.0</td>\n",
       "      <td>3.0</td>\n",
       "      <td>18.0</td>\n",
       "      <td>39.0</td>\n",
       "      <td>46.0</td>\n",
       "      <td>43.0</td>\n",
       "      <td>5.0</td>\n",
       "    </tr>\n",
       "    <tr>\n",
       "      <th>1</th>\n",
       "      <td>Aurangabad</td>\n",
       "      <td>31.0</td>\n",
       "      <td>1.0</td>\n",
       "      <td>14.0</td>\n",
       "      <td>5.0</td>\n",
       "      <td>91.0</td>\n",
       "      <td>43.0</td>\n",
       "      <td>5.0</td>\n",
       "    </tr>\n",
       "    <tr>\n",
       "      <th>2</th>\n",
       "      <td>Pune</td>\n",
       "      <td>27.0</td>\n",
       "      <td>NaN</td>\n",
       "      <td>35.0</td>\n",
       "      <td>13.0</td>\n",
       "      <td>61.0</td>\n",
       "      <td>96.0</td>\n",
       "      <td>33.0</td>\n",
       "    </tr>\n",
       "    <tr>\n",
       "      <th>3</th>\n",
       "      <td>Nagpur</td>\n",
       "      <td>33.0</td>\n",
       "      <td>3.0</td>\n",
       "      <td>18.0</td>\n",
       "      <td>35.0</td>\n",
       "      <td>46.0</td>\n",
       "      <td>42.0</td>\n",
       "      <td>5.0</td>\n",
       "    </tr>\n",
       "    <tr>\n",
       "      <th>4</th>\n",
       "      <td>Aurangabad</td>\n",
       "      <td>26.0</td>\n",
       "      <td>1.0</td>\n",
       "      <td>14.0</td>\n",
       "      <td>5.0</td>\n",
       "      <td>91.0</td>\n",
       "      <td>42.0</td>\n",
       "      <td>6.0</td>\n",
       "    </tr>\n",
       "  </tbody>\n",
       "</table>\n",
       "</div>"
      ],
      "text/plain": [
       "         city    CO  NH3   NO2  OZONE  PM10  PM2.5   SO2\n",
       "0      Nagpur  36.0  3.0  18.0   39.0  46.0   43.0   5.0\n",
       "1  Aurangabad  31.0  1.0  14.0    5.0  91.0   43.0   5.0\n",
       "2        Pune  27.0  NaN  35.0   13.0  61.0   96.0  33.0\n",
       "3      Nagpur  33.0  3.0  18.0   35.0  46.0   42.0   5.0\n",
       "4  Aurangabad  26.0  1.0  14.0    5.0  91.0   42.0   6.0"
      ]
     },
     "execution_count": 52,
     "metadata": {},
     "output_type": "execute_result"
    }
   ],
   "source": [
    "real_df = pd.read_csv('Real_time_data.csv')\n",
    "real_df.head()"
   ]
  },
  {
   "cell_type": "code",
   "execution_count": 53,
   "id": "f8e233fb",
   "metadata": {},
   "outputs": [
    {
     "data": {
      "text/plain": [
       "(1119, 8)"
      ]
     },
     "execution_count": 53,
     "metadata": {},
     "output_type": "execute_result"
    }
   ],
   "source": [
    "real_df.shape"
   ]
  },
  {
   "cell_type": "code",
   "execution_count": 54,
   "id": "e6088645",
   "metadata": {},
   "outputs": [
    {
     "name": "stdout",
     "output_type": "stream",
     "text": [
      "<class 'pandas.core.frame.DataFrame'>\n",
      "RangeIndex: 1119 entries, 0 to 1118\n",
      "Data columns (total 8 columns):\n",
      " #   Column  Non-Null Count  Dtype  \n",
      "---  ------  --------------  -----  \n",
      " 0   city    1119 non-null   object \n",
      " 1   CO      1094 non-null   float64\n",
      " 2   NH3     1028 non-null   float64\n",
      " 3   NO2     1106 non-null   float64\n",
      " 4   OZONE   1074 non-null   float64\n",
      " 5   PM10    1117 non-null   float64\n",
      " 6   PM2.5   1105 non-null   float64\n",
      " 7   SO2     1048 non-null   float64\n",
      "dtypes: float64(7), object(1)\n",
      "memory usage: 70.1+ KB\n"
     ]
    }
   ],
   "source": [
    "real_df.info()"
   ]
  },
  {
   "cell_type": "markdown",
   "id": "e7ce9e07",
   "metadata": {},
   "source": [
    "## Data Preprocessing"
   ]
  },
  {
   "cell_type": "code",
   "execution_count": 55,
   "id": "c4337d40",
   "metadata": {},
   "outputs": [
    {
     "data": {
      "text/plain": [
       "array(['Nagpur', 'Aurangabad', 'Pune', 'Solapur', 'Gandhinagar',\n",
       "       'Chandrapur', 'Mumbai', 'Dewas', 'Gwalior', 'Indore', 'Jabalpur',\n",
       "       'Ujjain', 'Ahmedabad', 'Nashik', 'Delhi', 'Thane', 'Navi Mumbai',\n",
       "       'Kalyan'], dtype=object)"
      ]
     },
     "execution_count": 55,
     "metadata": {},
     "output_type": "execute_result"
    }
   ],
   "source": [
    "#Find out how many cities are there in dataset\n",
    "real_df.city.unique()"
   ]
  },
  {
   "cell_type": "code",
   "execution_count": 56,
   "id": "c21478fa",
   "metadata": {},
   "outputs": [
    {
     "data": {
      "text/plain": [
       "city      0\n",
       "CO       25\n",
       "NH3      91\n",
       "NO2      13\n",
       "OZONE    45\n",
       "PM10      2\n",
       "PM2.5    14\n",
       "SO2      71\n",
       "dtype: int64"
      ]
     },
     "execution_count": 56,
     "metadata": {},
     "output_type": "execute_result"
    }
   ],
   "source": [
    "#is there any null values present?\n",
    "real_df.isnull().sum()"
   ]
  },
  {
   "cell_type": "code",
   "execution_count": 57,
   "id": "1637912e",
   "metadata": {},
   "outputs": [],
   "source": [
    "#fill all null values with the median\n",
    "\n",
    "real_df[\"CO\"].fillna((real_df[\"CO\"].median()),inplace=True)\n",
    "real_df[\"NH3\"].fillna((real_df[\"NH3\"].median()),inplace=True)\n",
    "real_df[\"NO2\"].fillna((real_df[\"NO2\"].median()),inplace=True)\n",
    "real_df[\"OZONE\"].fillna((real_df[\"OZONE\"].median()),inplace=True)\n",
    "real_df[\"PM10\"].fillna((real_df[\"PM10\"].median()),inplace=True)\n",
    "real_df[\"PM2.5\"].fillna((real_df[\"PM2.5\"].median()),inplace=True)\n",
    "real_df[\"SO2\"].fillna((real_df[\"SO2\"].median()),inplace=True)#"
   ]
  },
  {
   "cell_type": "code",
   "execution_count": 58,
   "id": "5d7528dc",
   "metadata": {},
   "outputs": [
    {
     "data": {
      "text/plain": [
       "city     0\n",
       "CO       0\n",
       "NH3      0\n",
       "NO2      0\n",
       "OZONE    0\n",
       "PM10     0\n",
       "PM2.5    0\n",
       "SO2      0\n",
       "dtype: int64"
      ]
     },
     "execution_count": 58,
     "metadata": {},
     "output_type": "execute_result"
    }
   ],
   "source": [
    "#Check weather a null value present or not\n",
    "real_df.isnull().sum()"
   ]
  },
  {
   "cell_type": "markdown",
   "id": "e3a274dc",
   "metadata": {},
   "source": [
    "## Explatory Data Analysis"
   ]
  },
  {
   "cell_type": "code",
   "execution_count": 59,
   "id": "4d7a89e2",
   "metadata": {},
   "outputs": [
    {
     "data": {
      "text/plain": [
       "<AxesSubplot:xlabel='city'>"
      ]
     },
     "execution_count": 59,
     "metadata": {},
     "output_type": "execute_result"
    },
    {
     "data": {
      "image/png": "[encoded data removed]",
      "text/plain": [
       "<Figure size 432x288 with 1 Axes>"
      ]
     },
     "metadata": {
      "needs_background": "light"
     },
     "output_type": "display_data"
    }
   ],
   "source": [
    "real_df[['CO','city']].groupby([\"city\"]).mean().sort_values(by='CO').plot.bar(color='Purple')"
   ]
  },
  {
   "cell_type": "markdown",
   "id": "77652fbb",
   "metadata": {},
   "source": [
    "Kalyan is most polluted city in trms of Carbon Monoxide"
   ]
  },
  {
   "cell_type": "code",
   "execution_count": 60,
   "id": "2c9cd055",
   "metadata": {},
   "outputs": [
    {
     "data": {
      "text/plain": [
       "<AxesSubplot:xlabel='city'>"
      ]
     },
     "execution_count": 60,
     "metadata": {},
     "output_type": "execute_result"
    },
    {
     "data": {
      "image/png": "[encoded data removed]",
      "text/plain": [
       "<Figure size 432x288 with 1 Axes>"
      ]
     },
     "metadata": {
      "needs_background": "light"
     },
     "output_type": "display_data"
    }
   ],
   "source": [
    "real_df[['NH3','city']].groupby([\"city\"]).mean().sort_values(by='NH3').plot.bar(color='Red')"
   ]
  },
  {
   "cell_type": "markdown",
   "id": "fca9fe9f",
   "metadata": {},
   "source": [
    "Delhi is most polluted city in trms of Ammonia(NH3)"
   ]
  },
  {
   "cell_type": "code",
   "execution_count": 61,
   "id": "5e31070a",
   "metadata": {},
   "outputs": [
    {
     "data": {
      "text/plain": [
       "<AxesSubplot:xlabel='city'>"
      ]
     },
     "execution_count": 61,
     "metadata": {},
     "output_type": "execute_result"
    },
    {
     "data": {
      "image/png": "[encoded data removed]",
      "text/plain": [
       "<Figure size 432x288 with 1 Axes>"
      ]
     },
     "metadata": {
      "needs_background": "light"
     },
     "output_type": "display_data"
    }
   ],
   "source": [
    "real_df[['NO2','city']].groupby([\"city\"]).mean().sort_values(by='NO2').plot.bar(color='Green')"
   ]
  },
  {
   "cell_type": "markdown",
   "id": "0cc4329e",
   "metadata": {},
   "source": [
    "Navi Mumbai is most polluted city in terms of Nitrogen Oxide(NO2)"
   ]
  },
  {
   "cell_type": "code",
   "execution_count": 62,
   "id": "cd6a1a66",
   "metadata": {},
   "outputs": [
    {
     "data": {
      "text/plain": [
       "<AxesSubplot:xlabel='city'>"
      ]
     },
     "execution_count": 62,
     "metadata": {},
     "output_type": "execute_result"
    },
    {
     "data": {
      "image/png": "[encoded data removed]",
      "text/plain": [
       "<Figure size 432x288 with 1 Axes>"
      ]
     },
     "metadata": {
      "needs_background": "light"
     },
     "output_type": "display_data"
    }
   ],
   "source": [
    "real_df[['OZONE','city']].groupby([\"city\"]).mean().sort_values(by='OZONE').plot.bar(color='Orange')"
   ]
  },
  {
   "cell_type": "markdown",
   "id": "835f5b1e",
   "metadata": {},
   "source": [
    "Thane is most polluted city in terms of Ozone(O3)"
   ]
  },
  {
   "cell_type": "code",
   "execution_count": 63,
   "id": "e7dcc948",
   "metadata": {},
   "outputs": [
    {
     "data": {
      "text/plain": [
       "<AxesSubplot:xlabel='city'>"
      ]
     },
     "execution_count": 63,
     "metadata": {},
     "output_type": "execute_result"
    },
    {
     "data": {
      "image/png": "[encoded data removed]",
      "text/plain": [
       "<Figure size 432x288 with 1 Axes>"
      ]
     },
     "metadata": {
      "needs_background": "light"
     },
     "output_type": "display_data"
    }
   ],
   "source": [
    "real_df[['PM10','city']].groupby([\"city\"]).mean().sort_values(by='PM10').plot.bar(color='Blue')"
   ]
  },
  {
   "cell_type": "markdown",
   "id": "145a6962",
   "metadata": {},
   "source": [
    "Delhi is most polluted city in terms of PM10"
   ]
  },
  {
   "cell_type": "code",
   "execution_count": 64,
   "id": "6e6d0e66",
   "metadata": {},
   "outputs": [
    {
     "data": {
      "text/plain": [
       "<AxesSubplot:xlabel='city'>"
      ]
     },
     "execution_count": 64,
     "metadata": {},
     "output_type": "execute_result"
    },
    {
     "data": {
      "image/png": "[encoded data removed]",
      "text/plain": [
       "<Figure size 432x288 with 1 Axes>"
      ]
     },
     "metadata": {
      "needs_background": "light"
     },
     "output_type": "display_data"
    }
   ],
   "source": [
    "real_df[['PM2.5','city']].groupby([\"city\"]).mean().sort_values(by='PM2.5').plot.bar(color='Indigo')"
   ]
  },
  {
   "cell_type": "markdown",
   "id": "dfe3a58b",
   "metadata": {},
   "source": [
    "Delhi is most polluted city in terms of PM2.5"
   ]
  },
  {
   "cell_type": "code",
   "execution_count": 65,
   "id": "0ae94300",
   "metadata": {},
   "outputs": [
    {
     "data": {
      "text/plain": [
       "<AxesSubplot:xlabel='city'>"
      ]
     },
     "execution_count": 65,
     "metadata": {},
     "output_type": "execute_result"
    },
    {
     "data": {
      "image/png": "[encoded data removed]",
      "text/plain": [
       "<Figure size 432x288 with 1 Axes>"
      ]
     },
     "metadata": {
      "needs_background": "light"
     },
     "output_type": "display_data"
    }
   ],
   "source": [
    "    real_df[['SO2','city']].groupby([\"city\"]).mean().sort_values(by='SO2').plot.bar(color='Yellow')"
   ]
  },
  {
   "cell_type": "markdown",
   "id": "261e1c1d",
   "metadata": {},
   "source": [
    "Gwalior is most polluted city in terms of Sulphur Dioxide(SO2)"
   ]
  },
  {
   "cell_type": "code",
   "execution_count": 66,
   "id": "e4a9c8a2",
   "metadata": {},
   "outputs": [
    {
     "data": {
      "text/html": [
       "<div>\n",
       "<style scoped>\n",
       "    .dataframe tbody tr th:only-of-type {\n",
       "        vertical-align: middle;\n",
       "    }\n",
       "\n",
       "    .dataframe tbody tr th {\n",
       "        vertical-align: top;\n",
       "    }\n",
       "\n",
       "    .dataframe thead th {\n",
       "        text-align: right;\n",
       "    }\n",
       "</style>\n",
       "<table border=\"1\" class=\"dataframe\">\n",
       "  <thead>\n",
       "    <tr style=\"text-align: right;\">\n",
       "      <th></th>\n",
       "      <th>city</th>\n",
       "      <th>CO</th>\n",
       "      <th>NH3</th>\n",
       "      <th>NO2</th>\n",
       "      <th>OZONE</th>\n",
       "      <th>PM10</th>\n",
       "      <th>PM2.5</th>\n",
       "      <th>SO2</th>\n",
       "      <th>AQI_calculated</th>\n",
       "      <th>AQI_bucket_calculated</th>\n",
       "    </tr>\n",
       "  </thead>\n",
       "  <tbody>\n",
       "    <tr>\n",
       "      <th>0</th>\n",
       "      <td>Nagpur</td>\n",
       "      <td>36.0</td>\n",
       "      <td>3.0</td>\n",
       "      <td>18.0</td>\n",
       "      <td>39.0</td>\n",
       "      <td>46.0</td>\n",
       "      <td>43.0</td>\n",
       "      <td>5.0</td>\n",
       "      <td>46.0</td>\n",
       "      <td>Good</td>\n",
       "    </tr>\n",
       "    <tr>\n",
       "      <th>1</th>\n",
       "      <td>Aurangabad</td>\n",
       "      <td>31.0</td>\n",
       "      <td>1.0</td>\n",
       "      <td>14.0</td>\n",
       "      <td>5.0</td>\n",
       "      <td>91.0</td>\n",
       "      <td>43.0</td>\n",
       "      <td>5.0</td>\n",
       "      <td>91.0</td>\n",
       "      <td>Satisfactory</td>\n",
       "    </tr>\n",
       "    <tr>\n",
       "      <th>2</th>\n",
       "      <td>Pune</td>\n",
       "      <td>27.0</td>\n",
       "      <td>3.0</td>\n",
       "      <td>35.0</td>\n",
       "      <td>13.0</td>\n",
       "      <td>61.0</td>\n",
       "      <td>96.0</td>\n",
       "      <td>33.0</td>\n",
       "      <td>96.0</td>\n",
       "      <td>Satisfactory</td>\n",
       "    </tr>\n",
       "    <tr>\n",
       "      <th>3</th>\n",
       "      <td>Nagpur</td>\n",
       "      <td>33.0</td>\n",
       "      <td>3.0</td>\n",
       "      <td>18.0</td>\n",
       "      <td>35.0</td>\n",
       "      <td>46.0</td>\n",
       "      <td>42.0</td>\n",
       "      <td>5.0</td>\n",
       "      <td>46.0</td>\n",
       "      <td>Good</td>\n",
       "    </tr>\n",
       "    <tr>\n",
       "      <th>4</th>\n",
       "      <td>Aurangabad</td>\n",
       "      <td>26.0</td>\n",
       "      <td>1.0</td>\n",
       "      <td>14.0</td>\n",
       "      <td>5.0</td>\n",
       "      <td>91.0</td>\n",
       "      <td>42.0</td>\n",
       "      <td>6.0</td>\n",
       "      <td>91.0</td>\n",
       "      <td>Satisfactory</td>\n",
       "    </tr>\n",
       "  </tbody>\n",
       "</table>\n",
       "</div>"
      ],
      "text/plain": [
       "         city    CO  NH3   NO2  OZONE  PM10  PM2.5   SO2  AQI_calculated  \\\n",
       "0      Nagpur  36.0  3.0  18.0   39.0  46.0   43.0   5.0            46.0   \n",
       "1  Aurangabad  31.0  1.0  14.0    5.0  91.0   43.0   5.0            91.0   \n",
       "2        Pune  27.0  3.0  35.0   13.0  61.0   96.0  33.0            96.0   \n",
       "3      Nagpur  33.0  3.0  18.0   35.0  46.0   42.0   5.0            46.0   \n",
       "4  Aurangabad  26.0  1.0  14.0    5.0  91.0   42.0   6.0            91.0   \n",
       "\n",
       "  AQI_bucket_calculated  \n",
       "0                  Good  \n",
       "1          Satisfactory  \n",
       "2          Satisfactory  \n",
       "3                  Good  \n",
       "4          Satisfactory  "
      ]
     },
     "execution_count": 66,
     "metadata": {},
     "output_type": "execute_result"
    }
   ],
   "source": [
    "#Function to calculate AQI Value\n",
    "\n",
    "def get_AQI_bucket(x):\n",
    "    if x <= 50:\n",
    "        return \"Good\"\n",
    "    elif x <= 100:\n",
    "        return \"Satisfactory\"\n",
    "    elif x <= 200:\n",
    "        return \"Moderate\"\n",
    "    elif x <= 300:\n",
    "        return \"Poor\"\n",
    "    elif x <= 400:\n",
    "        return \"Very Poor\"\n",
    "    elif x > 400:\n",
    "        return \"Severe\"\n",
    "    else:\n",
    "        return np.NaN\n",
    "\n",
    "\n",
    "\n",
    "real_df[\"AQI_calculated\"] = round(real_df[[\"CO\", \"NH3\", \"NO2\", \"OZONE\",\n",
    "                                 \"PM10\", \"PM2.5\", \"SO2\"]].max(axis = 1))\n",
    "\n",
    "\n",
    "real_df[\"AQI_bucket_calculated\"] = real_df[\"AQI_calculated\"].apply(lambda x: get_AQI_bucket(x))\n",
    "real_df[~real_df.AQI_calculated.isna()].head(5)\n"
   ]
  },
  {
   "cell_type": "markdown",
   "id": "2243e91a",
   "metadata": {},
   "source": [
    "## Model"
   ]
  },
  {
   "cell_type": "code",
   "execution_count": 67,
   "id": "cc0e8a3c",
   "metadata": {},
   "outputs": [
    {
     "data": {
      "text/html": [
       "<div>\n",
       "<style scoped>\n",
       "    .dataframe tbody tr th:only-of-type {\n",
       "        vertical-align: middle;\n",
       "    }\n",
       "\n",
       "    .dataframe tbody tr th {\n",
       "        vertical-align: top;\n",
       "    }\n",
       "\n",
       "    .dataframe thead th {\n",
       "        text-align: right;\n",
       "    }\n",
       "</style>\n",
       "<table border=\"1\" class=\"dataframe\">\n",
       "  <thead>\n",
       "    <tr style=\"text-align: right;\">\n",
       "      <th></th>\n",
       "      <th>CO</th>\n",
       "      <th>NH3</th>\n",
       "      <th>NO2</th>\n",
       "      <th>OZONE</th>\n",
       "      <th>PM10</th>\n",
       "      <th>PM2.5</th>\n",
       "      <th>SO2</th>\n",
       "    </tr>\n",
       "  </thead>\n",
       "  <tbody>\n",
       "    <tr>\n",
       "      <th>0</th>\n",
       "      <td>36.0</td>\n",
       "      <td>3.0</td>\n",
       "      <td>18.0</td>\n",
       "      <td>39.0</td>\n",
       "      <td>46.0</td>\n",
       "      <td>43.0</td>\n",
       "      <td>5.0</td>\n",
       "    </tr>\n",
       "    <tr>\n",
       "      <th>1</th>\n",
       "      <td>31.0</td>\n",
       "      <td>1.0</td>\n",
       "      <td>14.0</td>\n",
       "      <td>5.0</td>\n",
       "      <td>91.0</td>\n",
       "      <td>43.0</td>\n",
       "      <td>5.0</td>\n",
       "    </tr>\n",
       "    <tr>\n",
       "      <th>2</th>\n",
       "      <td>27.0</td>\n",
       "      <td>3.0</td>\n",
       "      <td>35.0</td>\n",
       "      <td>13.0</td>\n",
       "      <td>61.0</td>\n",
       "      <td>96.0</td>\n",
       "      <td>33.0</td>\n",
       "    </tr>\n",
       "    <tr>\n",
       "      <th>3</th>\n",
       "      <td>33.0</td>\n",
       "      <td>3.0</td>\n",
       "      <td>18.0</td>\n",
       "      <td>35.0</td>\n",
       "      <td>46.0</td>\n",
       "      <td>42.0</td>\n",
       "      <td>5.0</td>\n",
       "    </tr>\n",
       "    <tr>\n",
       "      <th>4</th>\n",
       "      <td>26.0</td>\n",
       "      <td>1.0</td>\n",
       "      <td>14.0</td>\n",
       "      <td>5.0</td>\n",
       "      <td>91.0</td>\n",
       "      <td>42.0</td>\n",
       "      <td>6.0</td>\n",
       "    </tr>\n",
       "  </tbody>\n",
       "</table>\n",
       "</div>"
      ],
      "text/plain": [
       "     CO  NH3   NO2  OZONE  PM10  PM2.5   SO2\n",
       "0  36.0  3.0  18.0   39.0  46.0   43.0   5.0\n",
       "1  31.0  1.0  14.0    5.0  91.0   43.0   5.0\n",
       "2  27.0  3.0  35.0   13.0  61.0   96.0  33.0\n",
       "3  33.0  3.0  18.0   35.0  46.0   42.0   5.0\n",
       "4  26.0  1.0  14.0    5.0  91.0   42.0   6.0"
      ]
     },
     "execution_count": 67,
     "metadata": {},
     "output_type": "execute_result"
    }
   ],
   "source": [
    "# we split arrays or matrices into random train and test subsets using train_test_split\n",
    "# we divide our data in x and y variable\n",
    "# x = dependent variable\n",
    "# y = independent variable\n",
    "\n",
    "from sklearn.model_selection import train_test_split\n",
    "x = real_df.iloc[:,1:-2]\n",
    "y = real_df.AQI_calculated\n",
    "x.head()"
   ]
  },
  {
   "cell_type": "code",
   "execution_count": 68,
   "id": "d2cc499e",
   "metadata": {},
   "outputs": [
    {
     "data": {
      "text/plain": [
       "0    46.0\n",
       "1    91.0\n",
       "2    96.0\n",
       "3    46.0\n",
       "4    91.0\n",
       "Name: AQI_calculated, dtype: float64"
      ]
     },
     "execution_count": 68,
     "metadata": {},
     "output_type": "execute_result"
    }
   ],
   "source": [
    "y.head()"
   ]
  },
  {
   "cell_type": "code",
   "execution_count": 70,
   "id": "80583df5",
   "metadata": {},
   "outputs": [],
   "source": [
    "# Split the data\n",
    "\n",
    "X_train, X_test, y_train, y_test = train_test_split(x, y, test_size = 0.2, random_state = 0)\n"
   ]
  },
  {
   "cell_type": "markdown",
   "id": "62472e78",
   "metadata": {},
   "source": [
    "## Linear Reression"
   ]
  },
  {
   "cell_type": "code",
   "execution_count": 71,
   "id": "c3b46332",
   "metadata": {},
   "outputs": [],
   "source": [
    "from sklearn.linear_model import LinearRegression\n",
    "reg = LinearRegression()\n",
    "reg1 = reg.fit(X_train, y_train)"
   ]
  },
  {
   "cell_type": "code",
   "execution_count": 72,
   "id": "0e4e3594",
   "metadata": {},
   "outputs": [],
   "source": [
    "y_pred_reg = reg1.predict(X_test)"
   ]
  },
  {
   "cell_type": "markdown",
   "id": "e93e76ae",
   "metadata": {},
   "source": [
    "### Accuracy"
   ]
  },
  {
   "cell_type": "code",
   "execution_count": 73,
   "id": "4474f0b3",
   "metadata": {},
   "outputs": [
    {
     "name": "stdout",
     "output_type": "stream",
     "text": [
      "Accuracy: 95.82 %.\n"
     ]
    }
   ],
   "source": [
    "errors = abs(y_pred_reg - y_test) #returns the absolute value without considering its sign\n",
    "mape = 100 * (errors / y_test)\n",
    "accuracy = 100 - np.mean(mape)\n",
    "print('Accuracy:', round(accuracy, 2), '%.')"
   ]
  },
  {
   "cell_type": "markdown",
   "id": "521f6ee8",
   "metadata": {},
   "source": [
    "### Mean Absolute Error"
   ]
  },
  {
   "cell_type": "code",
   "execution_count": 88,
   "id": "9ffb3377",
   "metadata": {},
   "outputs": [
    {
     "name": "stdout",
     "output_type": "stream",
     "text": [
      " Mean Absolute Error:\n",
      "\n"
     ]
    },
    {
     "data": {
      "text/plain": [
       "3.2623498842836947"
      ]
     },
     "execution_count": 88,
     "metadata": {},
     "output_type": "execute_result"
    }
   ],
   "source": [
    "from sklearn.metrics import mean_absolute_error\n",
    "\n",
    "print(\" Mean Absolute Error:\\n\")\n",
    "mean_absolute_error(y_test, y_pred_reg)"
   ]
  },
  {
   "cell_type": "markdown",
   "id": "3fa4dc46",
   "metadata": {},
   "source": [
    "Mean Absolute Error: - Average absolute difference between the observed and predicted values."
   ]
  },
  {
   "cell_type": "markdown",
   "id": "8a6210fe",
   "metadata": {},
   "source": [
    "### Mean Squared Error"
   ]
  },
  {
   "cell_type": "code",
   "execution_count": 89,
   "id": "3eb293d1",
   "metadata": {},
   "outputs": [
    {
     "name": "stdout",
     "output_type": "stream",
     "text": [
      " Mean Squared Error:\n",
      "\n"
     ]
    },
    {
     "data": {
      "text/plain": [
       "33.90180243604163"
      ]
     },
     "execution_count": 89,
     "metadata": {},
     "output_type": "execute_result"
    }
   ],
   "source": [
    "from sklearn.metrics import mean_squared_error\n",
    "  \n",
    "# Calculation of Mean Squared Error (MSE)\n",
    "\n",
    "print(\" Mean Squared Error:\\n\")\n",
    "mean_squared_error(y_test,y_pred_reg)"
   ]
  },
  {
   "cell_type": "markdown",
   "id": "488ddde6",
   "metadata": {},
   "source": [
    "Mean Squared Error: - Average squared difference between the observed and predicted values."
   ]
  },
  {
   "cell_type": "markdown",
   "id": "fb6e03b9",
   "metadata": {},
   "source": [
    "### Root Mean Square Error"
   ]
  },
  {
   "cell_type": "code",
   "execution_count": 90,
   "id": "03664dee",
   "metadata": {},
   "outputs": [
    {
     "name": "stdout",
     "output_type": "stream",
     "text": [
      "Root Mean Square Error:\n",
      "\n",
      "5.822525434555149\n"
     ]
    }
   ],
   "source": [
    "from sklearn.metrics import mean_squared_error\n",
    "import math\n",
    " \n",
    "MSE = mean_squared_error(y_test, y_pred_reg)\n",
    " \n",
    "RMSE = math.sqrt(MSE)\n",
    "print(\"Root Mean Square Error:\\n\")\n",
    "print(RMSE)"
   ]
  },
  {
   "cell_type": "markdown",
   "id": "24f90252",
   "metadata": {},
   "source": [
    "Root Mean Square Error - It is root of MSE"
   ]
  },
  {
   "cell_type": "markdown",
   "id": "002aab52",
   "metadata": {},
   "source": [
    "#### This above three are the loss function which tells us about how much error is present in the model"
   ]
  },
  {
   "cell_type": "markdown",
   "id": "b7766981",
   "metadata": {},
   "source": [
    "### R-Squared (R²) score"
   ]
  },
  {
   "cell_type": "code",
   "execution_count": 91,
   "id": "9235a8c1",
   "metadata": {},
   "outputs": [
    {
     "name": "stdout",
     "output_type": "stream",
     "text": [
      "r2 score for perfect model is 0.9926047045418168\n"
     ]
    }
   ],
   "source": [
    "from sklearn.metrics import r2_score\n",
    "\n",
    "r2 = r2_score(y_test, y_pred_reg)\n",
    "print('r2 score for perfect model is', r2)"
   ]
  },
  {
   "cell_type": "markdown",
   "id": "8c0baf88",
   "metadata": {},
   "source": [
    "R-Squared R² known as the coefficient of determination or goodness of fit,\n",
    "\n",
    "sum of squared of error of regression line - sum of squared of error of mean line We compare our mean line with our regression line We consider mean line is a worst perform line It is 1 when regression line is accurateely predict which is good"
   ]
  },
  {
   "cell_type": "code",
   "execution_count": 92,
   "id": "644df87c",
   "metadata": {},
   "outputs": [
    {
     "name": "stderr",
     "output_type": "stream",
     "text": [
      "C:\\Users\\ASUS\\anaconda3\\lib\\site-packages\\statsmodels\\tsa\\tsatools.py:142: FutureWarning: In a future version of pandas all arguments of concat except for the argument 'objs' will be keyword-only\n",
      "  x = pd.concat(x[::order], 1)\n"
     ]
    },
    {
     "data": {
      "text/html": [
       "<table class=\"simpletable\">\n",
       "<caption>OLS Regression Results</caption>\n",
       "<tr>\n",
       "  <th>Dep. Variable:</th>     <td>AQI_calculated</td>  <th>  R-squared:         </th> <td>   0.999</td> \n",
       "</tr>\n",
       "<tr>\n",
       "  <th>Model:</th>                   <td>OLS</td>       <th>  Adj. R-squared:    </th> <td>   0.999</td> \n",
       "</tr>\n",
       "<tr>\n",
       "  <th>Method:</th>             <td>Least Squares</td>  <th>  F-statistic:       </th> <td>8.855e+04</td>\n",
       "</tr>\n",
       "<tr>\n",
       "  <th>Date:</th>             <td>Mon, 03 Oct 2022</td> <th>  Prob (F-statistic):</th>  <td>  0.00</td>  \n",
       "</tr>\n",
       "<tr>\n",
       "  <th>Time:</th>                 <td>20:05:09</td>     <th>  Log-Likelihood:    </th> <td> -2802.4</td> \n",
       "</tr>\n",
       "<tr>\n",
       "  <th>No. Observations:</th>      <td>   895</td>      <th>  AIC:               </th> <td>   5621.</td> \n",
       "</tr>\n",
       "<tr>\n",
       "  <th>Df Residuals:</th>          <td>   887</td>      <th>  BIC:               </th> <td>   5659.</td> \n",
       "</tr>\n",
       "<tr>\n",
       "  <th>Df Model:</th>              <td>     7</td>      <th>                     </th>     <td> </td>    \n",
       "</tr>\n",
       "<tr>\n",
       "  <th>Covariance Type:</th>      <td>nonrobust</td>    <th>                     </th>     <td> </td>    \n",
       "</tr>\n",
       "</table>\n",
       "<table class=\"simpletable\">\n",
       "<tr>\n",
       "    <td></td>       <th>coef</th>     <th>std err</th>      <th>t</th>      <th>P>|t|</th>  <th>[0.025</th>    <th>0.975]</th>  \n",
       "</tr>\n",
       "<tr>\n",
       "  <th>const</th> <td>   -3.3223</td> <td>    0.597</td> <td>   -5.561</td> <td> 0.000</td> <td>   -4.495</td> <td>   -2.150</td>\n",
       "</tr>\n",
       "<tr>\n",
       "  <th>CO</th>    <td>   -0.0027</td> <td>    0.010</td> <td>   -0.282</td> <td> 0.778</td> <td>   -0.022</td> <td>    0.016</td>\n",
       "</tr>\n",
       "<tr>\n",
       "  <th>NH3</th>   <td>    0.1090</td> <td>    0.061</td> <td>    1.776</td> <td> 0.076</td> <td>   -0.011</td> <td>    0.229</td>\n",
       "</tr>\n",
       "<tr>\n",
       "  <th>NO2</th>   <td>    0.0578</td> <td>    0.012</td> <td>    4.998</td> <td> 0.000</td> <td>    0.035</td> <td>    0.080</td>\n",
       "</tr>\n",
       "<tr>\n",
       "  <th>OZONE</th> <td>    0.1054</td> <td>    0.010</td> <td>   10.397</td> <td> 0.000</td> <td>    0.085</td> <td>    0.125</td>\n",
       "</tr>\n",
       "<tr>\n",
       "  <th>PM10</th>  <td>    0.9294</td> <td>    0.006</td> <td>  159.792</td> <td> 0.000</td> <td>    0.918</td> <td>    0.941</td>\n",
       "</tr>\n",
       "<tr>\n",
       "  <th>PM2.5</th> <td>    0.1068</td> <td>    0.010</td> <td>   10.626</td> <td> 0.000</td> <td>    0.087</td> <td>    0.127</td>\n",
       "</tr>\n",
       "<tr>\n",
       "  <th>SO2</th>   <td>    0.0162</td> <td>    0.024</td> <td>    0.682</td> <td> 0.495</td> <td>   -0.030</td> <td>    0.063</td>\n",
       "</tr>\n",
       "</table>\n",
       "<table class=\"simpletable\">\n",
       "<tr>\n",
       "  <th>Omnibus:</th>       <td>1016.275</td> <th>  Durbin-Watson:     </th>  <td>   1.899</td> \n",
       "</tr>\n",
       "<tr>\n",
       "  <th>Prob(Omnibus):</th>  <td> 0.000</td>  <th>  Jarque-Bera (JB):  </th> <td>103760.781</td>\n",
       "</tr>\n",
       "<tr>\n",
       "  <th>Skew:</th>           <td> 5.451</td>  <th>  Prob(JB):          </th>  <td>    0.00</td> \n",
       "</tr>\n",
       "<tr>\n",
       "  <th>Kurtosis:</th>       <td>54.610</td>  <th>  Cond. No.          </th>  <td>    704.</td> \n",
       "</tr>\n",
       "</table><br/><br/>Notes:<br/>[1] Standard Errors assume that the covariance matrix of the errors is correctly specified."
      ],
      "text/plain": [
       "<class 'statsmodels.iolib.summary.Summary'>\n",
       "\"\"\"\n",
       "                            OLS Regression Results                            \n",
       "==============================================================================\n",
       "Dep. Variable:         AQI_calculated   R-squared:                       0.999\n",
       "Model:                            OLS   Adj. R-squared:                  0.999\n",
       "Method:                 Least Squares   F-statistic:                 8.855e+04\n",
       "Date:                Mon, 03 Oct 2022   Prob (F-statistic):               0.00\n",
       "Time:                        20:05:09   Log-Likelihood:                -2802.4\n",
       "No. Observations:                 895   AIC:                             5621.\n",
       "Df Residuals:                     887   BIC:                             5659.\n",
       "Df Model:                           7                                         \n",
       "Covariance Type:            nonrobust                                         \n",
       "==============================================================================\n",
       "                 coef    std err          t      P>|t|      [0.025      0.975]\n",
       "------------------------------------------------------------------------------\n",
       "const         -3.3223      0.597     -5.561      0.000      -4.495      -2.150\n",
       "CO            -0.0027      0.010     -0.282      0.778      -0.022       0.016\n",
       "NH3            0.1090      0.061      1.776      0.076      -0.011       0.229\n",
       "NO2            0.0578      0.012      4.998      0.000       0.035       0.080\n",
       "OZONE          0.1054      0.010     10.397      0.000       0.085       0.125\n",
       "PM10           0.9294      0.006    159.792      0.000       0.918       0.941\n",
       "PM2.5          0.1068      0.010     10.626      0.000       0.087       0.127\n",
       "SO2            0.0162      0.024      0.682      0.495      -0.030       0.063\n",
       "==============================================================================\n",
       "Omnibus:                     1016.275   Durbin-Watson:                   1.899\n",
       "Prob(Omnibus):                  0.000   Jarque-Bera (JB):           103760.781\n",
       "Skew:                           5.451   Prob(JB):                         0.00\n",
       "Kurtosis:                      54.610   Cond. No.                         704.\n",
       "==============================================================================\n",
       "\n",
       "Notes:\n",
       "[1] Standard Errors assume that the covariance matrix of the errors is correctly specified.\n",
       "\"\"\""
      ]
     },
     "execution_count": 92,
     "metadata": {},
     "output_type": "execute_result"
    }
   ],
   "source": [
    "import statsmodels.api as sm\n",
    "\n",
    "Summ = sm.OLS(y_train,(sm.add_constant(X_train)))\n",
    "Summ.fit().summary()"
   ]
  },
  {
   "cell_type": "markdown",
   "id": "a5a20e44",
   "metadata": {},
   "source": [
    "## Random Forest"
   ]
  },
  {
   "cell_type": "code",
   "execution_count": 93,
   "id": "a7474ebe",
   "metadata": {},
   "outputs": [],
   "source": [
    "from sklearn.ensemble import RandomForestRegressor\n",
    "random_model = RandomForestRegressor()\n",
    "random_model1 = random_model.fit(X_train,y_train)"
   ]
  },
  {
   "cell_type": "code",
   "execution_count": 94,
   "id": "5d222e4d",
   "metadata": {},
   "outputs": [],
   "source": [
    "random_model_pred = random_model1.predict(X_test)"
   ]
  },
  {
   "cell_type": "markdown",
   "id": "e466f9b3",
   "metadata": {},
   "source": [
    "### Accuracy"
   ]
  },
  {
   "cell_type": "code",
   "execution_count": 95,
   "id": "d4979ea4",
   "metadata": {},
   "outputs": [
    {
     "name": "stdout",
     "output_type": "stream",
     "text": [
      "Accuracy: 99.22 %.\n"
     ]
    }
   ],
   "source": [
    "errors = abs(random_model_pred - y_test)\n",
    "mape = 100 * (errors / y_test)\n",
    "accuracy = 100 - np.mean(mape)\n",
    "print('Accuracy:', round(accuracy, 2), '%.')"
   ]
  },
  {
   "cell_type": "markdown",
   "id": "f6d7dfff",
   "metadata": {},
   "source": [
    "## Mean Absolute Error"
   ]
  },
  {
   "cell_type": "code",
   "execution_count": 96,
   "id": "18cb3a66",
   "metadata": {},
   "outputs": [
    {
     "data": {
      "text/plain": [
       "0.674196428571429"
      ]
     },
     "execution_count": 96,
     "metadata": {},
     "output_type": "execute_result"
    }
   ],
   "source": [
    "from sklearn.metrics import mean_absolute_error\n",
    "\n",
    "mean_absolute_error(y_test, random_model_pred)"
   ]
  },
  {
   "cell_type": "markdown",
   "id": "6d42e315",
   "metadata": {},
   "source": [
    "### Mean Squared Error"
   ]
  },
  {
   "cell_type": "code",
   "execution_count": 97,
   "id": "0c3c3756",
   "metadata": {},
   "outputs": [
    {
     "data": {
      "text/plain": [
       "3.205676785714288"
      ]
     },
     "execution_count": 97,
     "metadata": {},
     "output_type": "execute_result"
    }
   ],
   "source": [
    "from sklearn.metrics import mean_squared_error\n",
    "  \n",
    "# Calculation of Mean Squared Error (MSE)\n",
    "mean_squared_error(y_test,random_model_pred)"
   ]
  },
  {
   "cell_type": "markdown",
   "id": "79223ed3",
   "metadata": {},
   "source": [
    "### Root Mean Squared Error"
   ]
  },
  {
   "cell_type": "code",
   "execution_count": 98,
   "id": "b566d96a",
   "metadata": {},
   "outputs": [
    {
     "name": "stdout",
     "output_type": "stream",
     "text": [
      "Root Mean Square Error:\n",
      "\n",
      "1.7904403887631355\n"
     ]
    }
   ],
   "source": [
    "from sklearn.metrics import mean_squared_error\n",
    "import math\n",
    " \n",
    "MSE = mean_squared_error(y_test, random_model_pred)\n",
    " \n",
    "RMSE = math.sqrt(MSE)\n",
    "print(\"Root Mean Square Error:\\n\")\n",
    "print(RMSE)"
   ]
  },
  {
   "cell_type": "markdown",
   "id": "1742eeb2",
   "metadata": {},
   "source": [
    "### R2 Score"
   ]
  },
  {
   "cell_type": "code",
   "execution_count": 99,
   "id": "dcc98938",
   "metadata": {},
   "outputs": [
    {
     "name": "stdout",
     "output_type": "stream",
     "text": [
      "r2 score for perfect model is 0.9993007178005204\n"
     ]
    }
   ],
   "source": [
    "from sklearn.metrics import r2_score\n",
    "\n",
    "r2 = r2_score(y_test, random_model_pred)\n",
    "print('r2 score for perfect model is', r2)"
   ]
  },
  {
   "cell_type": "markdown",
   "id": "cdac83d3",
   "metadata": {},
   "source": [
    "## Support Vector Regressor"
   ]
  },
  {
   "cell_type": "code",
   "execution_count": 100,
   "id": "7691953a",
   "metadata": {},
   "outputs": [],
   "source": [
    "from sklearn.svm import SVR\n",
    "scv_reg  = SVR(kernel = 'rbf')\n",
    "scv_reg1 = scv_reg .fit(X_train,y_train)"
   ]
  },
  {
   "cell_type": "code",
   "execution_count": 101,
   "id": "83b8a339",
   "metadata": {},
   "outputs": [],
   "source": [
    "scv_reg_pred = scv_reg1.predict(X_test)"
   ]
  },
  {
   "cell_type": "code",
   "execution_count": 102,
   "id": "db8052ab",
   "metadata": {},
   "outputs": [
    {
     "name": "stdout",
     "output_type": "stream",
     "text": [
      "Accuracy: 89.2 %.\n"
     ]
    }
   ],
   "source": [
    "errors = abs(scv_reg_pred - y_test)\n",
    "mape = 100 * (errors / y_test)\n",
    "accuracy = 100 - np.mean(mape)\n",
    "print('Accuracy:', round(accuracy, 2), '%.')"
   ]
  },
  {
   "cell_type": "markdown",
   "id": "81a74efd",
   "metadata": {},
   "source": [
    "### Mean Absolute Error"
   ]
  },
  {
   "cell_type": "code",
   "execution_count": 106,
   "id": "58d4c7f1",
   "metadata": {},
   "outputs": [
    {
     "data": {
      "text/plain": [
       "13.874269410263413"
      ]
     },
     "execution_count": 106,
     "metadata": {},
     "output_type": "execute_result"
    }
   ],
   "source": [
    "from sklearn.metrics import mean_absolute_error\n",
    "\n",
    "mean_absolute_error(y_test, scv_reg_pred)"
   ]
  },
  {
   "cell_type": "markdown",
   "id": "79ef3405",
   "metadata": {},
   "source": [
    "### Mean Squared Error"
   ]
  },
  {
   "cell_type": "code",
   "execution_count": 108,
   "id": "f3eabb2b",
   "metadata": {},
   "outputs": [
    {
     "data": {
      "text/plain": [
       "2388.055837501633"
      ]
     },
     "execution_count": 108,
     "metadata": {},
     "output_type": "execute_result"
    }
   ],
   "source": [
    "from sklearn.metrics import mean_squared_error\n",
    "  \n",
    "# Calculation of Mean Squared Error (MSE)\n",
    "mean_squared_error(y_test,scv_reg_pred)"
   ]
  },
  {
   "cell_type": "markdown",
   "id": "ae4b19c4",
   "metadata": {},
   "source": [
    "### Root Mean Squared Error "
   ]
  },
  {
   "cell_type": "code",
   "execution_count": 109,
   "id": "eb912557",
   "metadata": {},
   "outputs": [
    {
     "name": "stdout",
     "output_type": "stream",
     "text": [
      "Root Mean Square Error:\n",
      "\n",
      "48.867738207345276\n"
     ]
    }
   ],
   "source": [
    "from sklearn.metrics import mean_squared_error\n",
    "import math\n",
    " \n",
    "MSE = mean_squared_error(y_test, scv_reg_pred)\n",
    " \n",
    "RMSE = math.sqrt(MSE)\n",
    "print(\"Root Mean Square Error:\\n\")\n",
    "print(RMSE)"
   ]
  },
  {
   "cell_type": "markdown",
   "id": "512c12e9",
   "metadata": {},
   "source": [
    "### R2 Score"
   ]
  },
  {
   "cell_type": "code",
   "execution_count": 103,
   "id": "39a3749e",
   "metadata": {},
   "outputs": [
    {
     "name": "stdout",
     "output_type": "stream",
     "text": [
      "r2 score for perfect model is 0.479072579628142\n"
     ]
    }
   ],
   "source": [
    "r2 = r2_score(y_test, scv_reg_pred)\n",
    "print('r2 score for perfect model is', r2)"
   ]
  },
  {
   "cell_type": "markdown",
   "id": "1f743149",
   "metadata": {},
   "source": [
    "## Prediction on Random Forest"
   ]
  },
  {
   "cell_type": "code",
   "execution_count": 110,
   "id": "db31a7f6",
   "metadata": {},
   "outputs": [
    {
     "name": "stdout",
     "output_type": "stream",
     "text": [
      "[312.05]\n",
      "Very Poor\n"
     ]
    }
   ],
   "source": [
    "input_data = [65,13,70,45,316,93,23]\n",
    "prediction = random_model.predict([input_data])\n",
    "print(prediction)\n",
    "if prediction <=50:\n",
    "    print(\"Good\")\n",
    "elif prediction <=100:\n",
    "    print('Satisfactory')\n",
    "elif prediction <=200:\n",
    "    print('Moderate')\n",
    "elif prediction <=300:\n",
    "    print('Poor')\n",
    "elif prediction <=400:\n",
    "    print('Very Poor')\n",
    "elif prediction >400:\n",
    "    print('Severe')"
   ]
  },
  {
   "cell_type": "markdown",
   "id": "71a17d49",
   "metadata": {},
   "source": [
    "## Saving the train model"
   ]
  },
  {
   "cell_type": "code",
   "execution_count": 112,
   "id": "b6cb50b9",
   "metadata": {},
   "outputs": [],
   "source": [
    "filename = 'trained_model.sav'\n",
    "pickle.dump(random_model, open(filename, 'wb'))"
   ]
  },
  {
   "cell_type": "markdown",
   "id": "fdd34fcf",
   "metadata": {},
   "source": [
    "## Loading the save model"
   ]
  },
  {
   "cell_type": "code",
   "execution_count": 113,
   "id": "b240c16a",
   "metadata": {},
   "outputs": [],
   "source": [
    "loaded_model = pickle.load(open('trained_model.sav', 'rb'))"
   ]
  },
  {
   "cell_type": "code",
   "execution_count": null,
   "id": "d595c750",
   "metadata": {},
   "outputs": [],
   "source": []
  },
  {
   "cell_type": "code",
   "execution_count": null,
   "id": "9a65a41d",
   "metadata": {},
   "outputs": [],
   "source": []
  },
  {
   "cell_type": "markdown",
   "id": "83e7f748",
   "metadata": {},
   "source": [
    "# Frontend"
   ]
  },
  {
   "cell_type": "code",
   "execution_count": 119,
   "id": "49269d75",
   "metadata": {},
   "outputs": [
    {
     "name": "stdout",
     "output_type": "stream",
     "text": [
      "[22.1]\n"
     ]
    },
    {
     "data": {
      "text/plain": [
       "DeltaGenerator(_root_container=0, _provided_cursor=None, _parent=None, _block_type=None, _form_data=None)"
      ]
     },
     "execution_count": 119,
     "metadata": {},
     "output_type": "execute_result"
    },
    {
     "data": {
      "image/png": "[encoded data removed]",
      "text/plain": [
       "<Figure size 864x432 with 1 Axes>"
      ]
     },
     "metadata": {
      "needs_background": "light"
     },
     "output_type": "display_data"
    }
   ],
   "source": [
    "\n",
    "'''\n",
    "import numpy as np\n",
    "import pickle\n",
    "import streamlit as st\n",
    "import pandas as pd\n",
    "import matplotlib.pyplot as plt\n",
    "\n",
    "\n",
    "#loading the saved model\n",
    "loaded_model = pickle.load(open(r'C:\\Users\\ASUS\\DBDA Python\\AQI\\trained_model.sav','rb')) #called to de-serialize a data stream.\n",
    "\n",
    "#creatng a function for prediction\n",
    "def aqi_prediction(input_data):\n",
    "    \n",
    "    prediction = loaded_model.predict([input_data])\n",
    "    print(prediction)\n",
    "    if prediction <=50:\n",
    "        return \"Good\"\n",
    "    elif prediction <=100:\n",
    "        return 'Satisfactory'\n",
    "    elif prediction <=200:\n",
    "        return 'Moderate'\n",
    "    elif prediction <=300:\n",
    "        return 'Poor'\n",
    "    elif prediction <=400:\n",
    "        return 'Very Poor'\n",
    "    elif prediction >400:\n",
    "        return 'Severe'\n",
    "\n",
    "st.title(\"Air Quality Index\") # Display text in title formatting.\n",
    "\n",
    "CO =  st.number_input('Value of CO2',0) #Display a numeric input widget.\n",
    "NH3 =  st.number_input('Value of NH3',0)\n",
    "NO2 =  st.number_input('Value of NO2',0)\n",
    "OZONE=  st.number_input('Value of OZONE',0)\n",
    "PM10 =  st.number_input('Value of PM10',0)\n",
    "PM25 =  st.number_input('Value of PM2.5',0)\n",
    "SO2 =  st.number_input('Value of SO2',0)\n",
    "\n",
    "input_data = [CO,NH3,NO2,OZONE,PM10,PM25,SO2]\n",
    "    \n",
    "st.write(aqi_prediction(input_data)) #used to display information into your app\n",
    "prediction = loaded_model.predict([input_data])\n",
    "st.write(prediction)\n",
    "\n",
    "\n",
    "st.subheader('Pollutants of your City')\n",
    "df=pd.DataFrame(data=input_data,columns=['Value'])\n",
    "df['Pollutants']=['CO','NH3','NO2','OZONE','PM10','PM25','SO2']\n",
    "fig=plt.figure(figsize=(12,6))\n",
    "plt.bar(df.Pollutants,df.Value,data=df)\n",
    "st.pyplot(fig)\n",
    "\n",
    "\n",
    "#we require a python file to run frontend hence we create a seperate file for that\n",
    "'''\n",
    "\n",
    "\n"
   ]
  },
  {
   "cell_type": "code",
   "execution_count": null,
   "id": "707f0d74",
   "metadata": {},
   "outputs": [],
   "source": []
  },
  {
   "cell_type": "code",
   "execution_count": null,
   "id": "79cdd170",
   "metadata": {},
   "outputs": [],
   "source": []
  }
 ],
 "metadata": {
  "kernelspec": {
   "display_name": "Python 3 (ipykernel)",
   "language": "python",
   "name": "python3"
  },
  "language_info": {
   "codemirror_mode": {
    "name": "ipython",
    "version": 3
   },
   "file_extension": ".py",
   "mimetype": "text/x-python",
   "name": "python",
   "nbconvert_exporter": "python",
   "pygments_lexer": "ipython3",
   "version": "3.9.7"
  }
 },
 "nbformat": 4,
 "nbformat_minor": 5
}
